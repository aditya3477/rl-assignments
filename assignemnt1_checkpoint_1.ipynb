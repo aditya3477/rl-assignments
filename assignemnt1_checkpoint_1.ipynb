{
  "nbformat": 4,
  "nbformat_minor": 0,
  "metadata": {
    "colab": {
      "provenance": [],
      "authorship_tag": "ABX9TyM17tu9lwEAmRXf1TTmmeiK",
      "include_colab_link": true
    },
    "kernelspec": {
      "name": "python3",
      "display_name": "Python 3"
    },
    "language_info": {
      "name": "python"
    }
  },
  "cells": [
    {
      "cell_type": "markdown",
      "metadata": {
        "id": "view-in-github",
        "colab_type": "text"
      },
      "source": [
        "<a href=\"https://colab.research.google.com/github/aditya3477/rl-assignments/blob/main/assignemnt1_checkpoint_1.ipynb\" target=\"_parent\"><img src=\"https://colab.research.google.com/assets/colab-badge.svg\" alt=\"Open In Colab\"/></a>"
      ]
    },
    {
      "cell_type": "code",
      "execution_count": 1,
      "metadata": {
        "colab": {
          "base_uri": "https://localhost:8080/"
        },
        "id": "n60Vi-rNxozV",
        "outputId": "70fb4aaa-7398-49c0-85d4-b47acebbe1c6"
      },
      "outputs": [
        {
          "output_type": "stream",
          "name": "stdout",
          "text": [
            "Looking in indexes: https://pypi.org/simple, https://us-python.pkg.dev/colab-wheels/public/simple/\n",
            "Collecting gymnasium\n",
            "  Downloading gymnasium-0.27.1-py3-none-any.whl (883 kB)\n",
            "\u001b[2K     \u001b[90m━━━━━━━━━━━━━━━━━━━━━━━━━━━━━━━━━━━━━━\u001b[0m \u001b[32m883.7/883.7 KB\u001b[0m \u001b[31m18.3 MB/s\u001b[0m eta \u001b[36m0:00:00\u001b[0m\n",
            "\u001b[?25hRequirement already satisfied: matplotlib in /usr/local/lib/python3.8/dist-packages (3.2.2)\n",
            "Requirement already satisfied: numpy in /usr/local/lib/python3.8/dist-packages (1.21.6)\n",
            "Collecting gymnasium-notices>=0.0.1\n",
            "  Downloading gymnasium_notices-0.0.1-py3-none-any.whl (2.8 kB)\n",
            "Collecting jax-jumpy>=0.2.0\n",
            "  Downloading jax_jumpy-0.2.0-py3-none-any.whl (11 kB)\n",
            "Requirement already satisfied: importlib-metadata>=4.8.0 in /usr/local/lib/python3.8/dist-packages (from gymnasium) (6.0.0)\n",
            "Requirement already satisfied: typing-extensions>=4.3.0 in /usr/local/lib/python3.8/dist-packages (from gymnasium) (4.4.0)\n",
            "Requirement already satisfied: cloudpickle>=1.2.0 in /usr/local/lib/python3.8/dist-packages (from gymnasium) (2.2.1)\n",
            "Requirement already satisfied: pyparsing!=2.0.4,!=2.1.2,!=2.1.6,>=2.0.1 in /usr/local/lib/python3.8/dist-packages (from matplotlib) (3.0.9)\n",
            "Requirement already satisfied: cycler>=0.10 in /usr/local/lib/python3.8/dist-packages (from matplotlib) (0.11.0)\n",
            "Requirement already satisfied: kiwisolver>=1.0.1 in /usr/local/lib/python3.8/dist-packages (from matplotlib) (1.4.4)\n",
            "Requirement already satisfied: python-dateutil>=2.1 in /usr/local/lib/python3.8/dist-packages (from matplotlib) (2.8.2)\n",
            "Requirement already satisfied: zipp>=0.5 in /usr/local/lib/python3.8/dist-packages (from importlib-metadata>=4.8.0->gymnasium) (3.12.1)\n",
            "Requirement already satisfied: six>=1.5 in /usr/local/lib/python3.8/dist-packages (from python-dateutil>=2.1->matplotlib) (1.15.0)\n",
            "Installing collected packages: gymnasium-notices, jax-jumpy, gymnasium\n",
            "Successfully installed gymnasium-0.27.1 gymnasium-notices-0.0.1 jax-jumpy-0.2.0\n"
          ]
        }
      ],
      "source": [
        "!pip install gymnasium matplotlib numpy"
      ]
    },
    {
      "cell_type": "code",
      "source": [
        "from google.colab import widgets\n",
        "import gymnasium as gym\n",
        "from gymnasium import spaces\n",
        "import matplotlib.pyplot as plt\n",
        "import numpy as np\n",
        "import time"
      ],
      "metadata": {
        "id": "iSQEqkIFxuR-"
      },
      "execution_count": 2,
      "outputs": []
    },
    {
      "cell_type": "code",
      "source": [
        "output_grid = widgets.Grid(1, 1)\n",
        "for _ in range(5):\n",
        "  grid = np.zeros((4, 4))\n",
        "  grid[np.random.randint(3), np.random.randint(3)] = 1\n",
        "\n",
        "  with output_grid.output_to(0, 0):\n",
        "    output_grid.clear_cell()\n",
        "    plt.imshow(grid)\n",
        "  time.sleep(1)"
      ],
      "metadata": {
        "colab": {
          "base_uri": "https://localhost:8080/",
          "height": 272
        },
        "id": "SJOMSWTJxyk4",
        "outputId": "8b10fd02-c5c8-413d-d871-8b471aa6b9ae"
      },
      "execution_count": 8,
      "outputs": [
        {
          "output_type": "display_data",
          "data": {
            "text/plain": [
              "<IPython.core.display.HTML object>"
            ],
            "text/html": [
              "<style>\n",
              "       table#id8, #id8 > tbody > tr > th, #id8 > tbody > tr > td {\n",
              "         border: 1px solid lightgray;\n",
              "         border-collapse:collapse;\n",
              "         \n",
              "        }</style>"
            ]
          },
          "metadata": {}
        },
        {
          "output_type": "display_data",
          "data": {
            "text/plain": [
              "<IPython.core.display.HTML object>"
            ],
            "text/html": [
              "<table id=id8><tr><td id=id8-0-0></td></tr></table>"
            ]
          },
          "metadata": {}
        },
        {
          "output_type": "display_data",
          "data": {
            "text/plain": [
              "<IPython.core.display.Javascript object>"
            ],
            "application/javascript": [
              "window[\"69cc0300-ae5b-11ed-b21c-0242ac1c000c\"] = google.colab.output.getActiveOutputArea();\n",
              "//# sourceURL=js_d145b0dab2"
            ]
          },
          "metadata": {}
        },
        {
          "output_type": "display_data",
          "data": {
            "text/plain": [
              "<IPython.core.display.Javascript object>"
            ],
            "application/javascript": [
              "window[\"69cc7074-ae5b-11ed-b21c-0242ac1c000c\"] = document.querySelector(\"#id8-0-0\");\n",
              "//# sourceURL=js_8b36ecb438"
            ]
          },
          "metadata": {}
        },
        {
          "output_type": "display_data",
          "data": {
            "text/plain": [
              "<IPython.core.display.Javascript object>"
            ],
            "application/javascript": [
              "window[\"69ccda64-ae5b-11ed-b21c-0242ac1c000c\"] = google.colab.output.setActiveOutputArea(window[\"69cc7074-ae5b-11ed-b21c-0242ac1c000c\"]);\n",
              "//# sourceURL=js_d984c163df"
            ]
          },
          "metadata": {}
        },
        {
          "output_type": "display_data",
          "data": {
            "text/plain": [
              "<IPython.core.display.Javascript object>"
            ],
            "application/javascript": [
              "window[\"69e927c8-ae5b-11ed-b21c-0242ac1c000c\"] = google.colab.output.setActiveOutputArea(window[\"69cc0300-ae5b-11ed-b21c-0242ac1c000c\"]);\n",
              "//# sourceURL=js_f5fa315a0d"
            ]
          },
          "metadata": {}
        },
        {
          "output_type": "display_data",
          "data": {
            "text/plain": [
              "<IPython.core.display.Javascript object>"
            ],
            "application/javascript": [
              "window[\"6a848268-ae5b-11ed-b21c-0242ac1c000c\"] = google.colab.output.getActiveOutputArea();\n",
              "//# sourceURL=js_cabbf89360"
            ]
          },
          "metadata": {}
        },
        {
          "output_type": "display_data",
          "data": {
            "text/plain": [
              "<IPython.core.display.Javascript object>"
            ],
            "application/javascript": [
              "window[\"6a84f4fa-ae5b-11ed-b21c-0242ac1c000c\"] = document.querySelector(\"#id8-0-0\");\n",
              "//# sourceURL=js_4d01369d4b"
            ]
          },
          "metadata": {}
        },
        {
          "output_type": "display_data",
          "data": {
            "text/plain": [
              "<IPython.core.display.Javascript object>"
            ],
            "application/javascript": [
              "window[\"6a85a634-ae5b-11ed-b21c-0242ac1c000c\"] = google.colab.output.setActiveOutputArea(window[\"6a84f4fa-ae5b-11ed-b21c-0242ac1c000c\"]);\n",
              "//# sourceURL=js_162725f9d3"
            ]
          },
          "metadata": {}
        },
        {
          "output_type": "display_data",
          "data": {
            "text/plain": [
              "<IPython.core.display.Javascript object>"
            ],
            "application/javascript": [
              "window[\"6aa080e4-ae5b-11ed-b21c-0242ac1c000c\"] = google.colab.output.setActiveOutputArea(window[\"6a848268-ae5b-11ed-b21c-0242ac1c000c\"]);\n",
              "//# sourceURL=js_952d481adc"
            ]
          },
          "metadata": {}
        },
        {
          "output_type": "display_data",
          "data": {
            "text/plain": [
              "<IPython.core.display.Javascript object>"
            ],
            "application/javascript": [
              "window[\"6b3b7cf2-ae5b-11ed-b21c-0242ac1c000c\"] = google.colab.output.getActiveOutputArea();\n",
              "//# sourceURL=js_0ab58d0ee0"
            ]
          },
          "metadata": {}
        },
        {
          "output_type": "display_data",
          "data": {
            "text/plain": [
              "<IPython.core.display.Javascript object>"
            ],
            "application/javascript": [
              "window[\"6b3bccc0-ae5b-11ed-b21c-0242ac1c000c\"] = document.querySelector(\"#id8-0-0\");\n",
              "//# sourceURL=js_694ad6bfd8"
            ]
          },
          "metadata": {}
        },
        {
          "output_type": "display_data",
          "data": {
            "text/plain": [
              "<IPython.core.display.Javascript object>"
            ],
            "application/javascript": [
              "window[\"6b3c627a-ae5b-11ed-b21c-0242ac1c000c\"] = google.colab.output.setActiveOutputArea(window[\"6b3bccc0-ae5b-11ed-b21c-0242ac1c000c\"]);\n",
              "//# sourceURL=js_529804f598"
            ]
          },
          "metadata": {}
        },
        {
          "output_type": "display_data",
          "data": {
            "text/plain": [
              "<IPython.core.display.Javascript object>"
            ],
            "application/javascript": [
              "window[\"6b575b7a-ae5b-11ed-b21c-0242ac1c000c\"] = google.colab.output.setActiveOutputArea(window[\"6b3b7cf2-ae5b-11ed-b21c-0242ac1c000c\"]);\n",
              "//# sourceURL=js_a361948494"
            ]
          },
          "metadata": {}
        },
        {
          "output_type": "display_data",
          "data": {
            "text/plain": [
              "<IPython.core.display.Javascript object>"
            ],
            "application/javascript": [
              "window[\"6bf2d01e-ae5b-11ed-b21c-0242ac1c000c\"] = google.colab.output.getActiveOutputArea();\n",
              "//# sourceURL=js_9a0b461fc9"
            ]
          },
          "metadata": {}
        },
        {
          "output_type": "display_data",
          "data": {
            "text/plain": [
              "<IPython.core.display.Javascript object>"
            ],
            "application/javascript": [
              "window[\"6bf31f06-ae5b-11ed-b21c-0242ac1c000c\"] = document.querySelector(\"#id8-0-0\");\n",
              "//# sourceURL=js_b5ea9a18e9"
            ]
          },
          "metadata": {}
        },
        {
          "output_type": "display_data",
          "data": {
            "text/plain": [
              "<IPython.core.display.Javascript object>"
            ],
            "application/javascript": [
              "window[\"6bf36c4a-ae5b-11ed-b21c-0242ac1c000c\"] = google.colab.output.setActiveOutputArea(window[\"6bf31f06-ae5b-11ed-b21c-0242ac1c000c\"]);\n",
              "//# sourceURL=js_8b64ce4635"
            ]
          },
          "metadata": {}
        },
        {
          "output_type": "display_data",
          "data": {
            "text/plain": [
              "<IPython.core.display.Javascript object>"
            ],
            "application/javascript": [
              "window[\"6c0c507a-ae5b-11ed-b21c-0242ac1c000c\"] = google.colab.output.setActiveOutputArea(window[\"6bf2d01e-ae5b-11ed-b21c-0242ac1c000c\"]);\n",
              "//# sourceURL=js_7085846a08"
            ]
          },
          "metadata": {}
        },
        {
          "output_type": "display_data",
          "data": {
            "text/plain": [
              "<IPython.core.display.Javascript object>"
            ],
            "application/javascript": [
              "window[\"6ca82ef0-ae5b-11ed-b21c-0242ac1c000c\"] = google.colab.output.getActiveOutputArea();\n",
              "//# sourceURL=js_2ac81407eb"
            ]
          },
          "metadata": {}
        },
        {
          "output_type": "display_data",
          "data": {
            "text/plain": [
              "<IPython.core.display.Javascript object>"
            ],
            "application/javascript": [
              "window[\"6ca88eea-ae5b-11ed-b21c-0242ac1c000c\"] = document.querySelector(\"#id8-0-0\");\n",
              "//# sourceURL=js_35c14baa2e"
            ]
          },
          "metadata": {}
        },
        {
          "output_type": "display_data",
          "data": {
            "text/plain": [
              "<IPython.core.display.Javascript object>"
            ],
            "application/javascript": [
              "window[\"6ca8e5f2-ae5b-11ed-b21c-0242ac1c000c\"] = google.colab.output.setActiveOutputArea(window[\"6ca88eea-ae5b-11ed-b21c-0242ac1c000c\"]);\n",
              "//# sourceURL=js_3021fc90fa"
            ]
          },
          "metadata": {}
        },
        {
          "output_type": "display_data",
          "data": {
            "text/plain": [
              "<Figure size 432x288 with 1 Axes>"
            ],
            "image/png": "[encoded data removed]"
          },
          "metadata": {
            "needs_background": "light"
          }
        },
        {
          "output_type": "display_data",
          "data": {
            "text/plain": [
              "<IPython.core.display.Javascript object>"
            ],
            "application/javascript": [
              "window[\"6cc42f88-ae5b-11ed-b21c-0242ac1c000c\"] = google.colab.output.setActiveOutputArea(window[\"6ca82ef0-ae5b-11ed-b21c-0242ac1c000c\"]);\n",
              "//# sourceURL=js_12c78ee8b8"
            ]
          },
          "metadata": {}
        }
      ]
    },
    {
      "cell_type": "code",
      "source": [
        "class GridEnvironment(gym.Env):\n",
        "    metadata = { 'render.modes': [] }\n",
        "    \n",
        "    def __init__(self,environmentType):\n",
        "        self.type = environmentType\n",
        "\n",
        "        self.observation_space = spaces.Discrete(25)\n",
        "        self.action_space = spaces.Discrete(5)\n",
        "        self.max_timesteps = 10\n",
        "\n",
        "        self.timestep = 0\n",
        "        self.agent_pos = [0, 0]\n",
        "        self.goal_pos = [3, 3]\n",
        "        self.state = np.zeros((4,4))\n",
        "        self.state[tuple(self.agent_pos)] = 1\n",
        "        self.state[tuple(self.goal_pos)] = 1.5\n",
        "\n",
        "        \n",
        "    def reset(self, **kwargs):\n",
        "\n",
        "        self.state = np.zeros((4,4))\n",
        "        self.state[tuple(self.agent_pos)] = 1\n",
        "        self.state[tuple(self.goal_pos)] = 0.5\n",
        "        observation = self.state.flatten()\n",
        "\n",
        "        info = {}\n",
        "\n",
        "        return observation, info\n",
        "    \n",
        "    def action_of_the_agent(self, action):\n",
        "\n",
        "        if action == 0:\n",
        "          self.agent_pos[0] += 1\n",
        "        if action == 1:\n",
        "          self.agent_pos[0] -= 1\n",
        "        if action == 2:\n",
        "          self.agent_pos[1] += 1\n",
        "        if action == 3:\n",
        "          self.agent_pos[1] -= 1\n",
        "\n",
        "    def step(self, action):\n",
        "\n",
        "      random_number = np.random.random()\n",
        "        \n",
        "      if self.type == \"stochastic\":\n",
        "        if random_number > 0.5:\n",
        "            self.action_of_the_agent(action)\n",
        "        \n",
        "      else:\n",
        "            self.action_of_the_agent(action)\n",
        "\n",
        "        # Comment this to demonstrate the truncation condition.\n",
        "      self.agent_pos = np.clip(self.agent_pos, 0, 2)\n",
        "\n",
        "      self.state = np.zeros((4,4))\n",
        "      self.state[tuple(self.agent_pos)] = 1\n",
        "      self.state[tuple(self.goal_pos)] = 1.5\n",
        "      observation = self.state.flatten()\n",
        "        \n",
        "      reward = 0\n",
        "      if np.array_equal(self.agent_pos, self.goal_pos):\n",
        "        reward = 1\n",
        "        \n",
        "      self.timestep += 1\n",
        "\n",
        "      terminated = True if self.timestep >= self.max_timesteps else False\n",
        "      truncated = True if np.all((self.agent_pos >=0 ) & (self.agent_pos <= 2)) else False\n",
        "\n",
        "      info = {}\n",
        "        \n",
        "      return reward, terminated\n",
        "        \n",
        "    def render(self):\n",
        "        plt.imshow(self.state)"
      ],
      "metadata": {
        "id": "pNv_mjNex3Iq"
      },
      "execution_count": 41,
      "outputs": []
    },
    {
      "cell_type": "code",
      "source": [
        "class RandomAgent:\n",
        "  def __init__(self, env):\n",
        "    self.env = env\n",
        "    self.observation_space = env.observation_space\n",
        "    self.action_space = env.action_space\n",
        "\n",
        "  def step(self, obs):\n",
        "    return np.random.choice(self.action_space.n)"
      ],
      "metadata": {
        "id": "GuX8i3Czx7p-"
      },
      "execution_count": 42,
      "outputs": []
    },
    {
      "cell_type": "code",
      "source": [
        "env = GridEnvironment(\"stochastic\")\n",
        "agent = RandomAgent(env)\n",
        "\n",
        "obs, info = env.reset()\n",
        "terminated, truncated = False, False\n",
        "\n",
        "output_grid = widgets.Grid(1, 1)\n",
        "with output_grid.output_to(0, 0):\n",
        "  env.render()\n",
        "\n",
        "while not terminated:\n",
        "  action = agent.step(obs)\n",
        "  reward, terminated = env.step(action)\n",
        "  with output_grid.output_to(0, 0):\n",
        "    output_grid.clear_cell()\n",
        "    env.render()\n",
        "  time.sleep(1)"
      ],
      "metadata": {
        "colab": {
          "base_uri": "https://localhost:8080/",
          "height": 272
        },
        "id": "8lP3PKyLx_Hq",
        "outputId": "796dbc38-15f0-4c54-ddda-4df419b30d64"
      },
      "execution_count": 43,
      "outputs": [
        {
          "output_type": "display_data",
          "data": {
            "text/plain": [
              "<IPython.core.display.HTML object>"
            ],
            "text/html": [
              "<style>\n",
              "       table#id24, #id24 > tbody > tr > th, #id24 > tbody > tr > td {\n",
              "         border: 1px solid lightgray;\n",
              "         border-collapse:collapse;\n",
              "         \n",
              "        }</style>"
            ]
          },
          "metadata": {}
        },
        {
          "output_type": "display_data",
          "data": {
            "text/plain": [
              "<IPython.core.display.HTML object>"
            ],
            "text/html": [
              "<table id=id24><tr><td id=id24-0-0></td></tr></table>"
            ]
          },
          "metadata": {}
        },
        {
          "output_type": "display_data",
          "data": {
            "text/plain": [
              "<IPython.core.display.Javascript object>"
            ],
            "application/javascript": [
              "window[\"53bd5cac-ae61-11ed-b21c-0242ac1c000c\"] = google.colab.output.getActiveOutputArea();\n",
              "//# sourceURL=js_a3df7ddf4b"
            ]
          },
          "metadata": {}
        },
        {
          "output_type": "display_data",
          "data": {
            "text/plain": [
              "<IPython.core.display.Javascript object>"
            ],
            "application/javascript": [
              "window[\"53bdbb98-ae61-11ed-b21c-0242ac1c000c\"] = document.querySelector(\"#id24-0-0\");\n",
              "//# sourceURL=js_eaf5c26ec9"
            ]
          },
          "metadata": {}
        },
        {
          "output_type": "display_data",
          "data": {
            "text/plain": [
              "<IPython.core.display.Javascript object>"
            ],
            "application/javascript": [
              "window[\"53be19c6-ae61-11ed-b21c-0242ac1c000c\"] = google.colab.output.setActiveOutputArea(window[\"53bdbb98-ae61-11ed-b21c-0242ac1c000c\"]);\n",
              "//# sourceURL=js_0981144cb6"
            ]
          },
          "metadata": {}
        },
        {
          "output_type": "display_data",
          "data": {
            "text/plain": [
              "<IPython.core.display.Javascript object>"
            ],
            "application/javascript": [
              "window[\"53dd6d44-ae61-11ed-b21c-0242ac1c000c\"] = google.colab.output.setActiveOutputArea(window[\"53bd5cac-ae61-11ed-b21c-0242ac1c000c\"]);\n",
              "//# sourceURL=js_ced1e85066"
            ]
          },
          "metadata": {}
        },
        {
          "output_type": "display_data",
          "data": {
            "text/plain": [
              "<IPython.core.display.Javascript object>"
            ],
            "application/javascript": [
              "window[\"53e071f6-ae61-11ed-b21c-0242ac1c000c\"] = google.colab.output.getActiveOutputArea();\n",
              "//# sourceURL=js_5cb33aa37c"
            ]
          },
          "metadata": {}
        },
        {
          "output_type": "display_data",
          "data": {
            "text/plain": [
              "<IPython.core.display.Javascript object>"
            ],
            "application/javascript": [
              "window[\"53e0c66a-ae61-11ed-b21c-0242ac1c000c\"] = document.querySelector(\"#id24-0-0\");\n",
              "//# sourceURL=js_49efb602a1"
            ]
          },
          "metadata": {}
        },
        {
          "output_type": "display_data",
          "data": {
            "text/plain": [
              "<IPython.core.display.Javascript object>"
            ],
            "application/javascript": [
              "window[\"53e11ba6-ae61-11ed-b21c-0242ac1c000c\"] = google.colab.output.setActiveOutputArea(window[\"53e0c66a-ae61-11ed-b21c-0242ac1c000c\"]);\n",
              "//# sourceURL=js_6d57326065"
            ]
          },
          "metadata": {}
        },
        {
          "output_type": "display_data",
          "data": {
            "text/plain": [
              "<IPython.core.display.Javascript object>"
            ],
            "application/javascript": [
              "window[\"54033c54-ae61-11ed-b21c-0242ac1c000c\"] = google.colab.output.setActiveOutputArea(window[\"53e071f6-ae61-11ed-b21c-0242ac1c000c\"]);\n",
              "//# sourceURL=js_6d364b1dba"
            ]
          },
          "metadata": {}
        },
        {
          "output_type": "display_data",
          "data": {
            "text/plain": [
              "<IPython.core.display.Javascript object>"
            ],
            "application/javascript": [
              "window[\"549e5798-ae61-11ed-b21c-0242ac1c000c\"] = google.colab.output.getActiveOutputArea();\n",
              "//# sourceURL=js_4e749ff324"
            ]
          },
          "metadata": {}
        },
        {
          "output_type": "display_data",
          "data": {
            "text/plain": [
              "<IPython.core.display.Javascript object>"
            ],
            "application/javascript": [
              "window[\"549efa18-ae61-11ed-b21c-0242ac1c000c\"] = document.querySelector(\"#id24-0-0\");\n",
              "//# sourceURL=js_5905332fd3"
            ]
          },
          "metadata": {}
        },
        {
          "output_type": "display_data",
          "data": {
            "text/plain": [
              "<IPython.core.display.Javascript object>"
            ],
            "application/javascript": [
              "window[\"549f48b0-ae61-11ed-b21c-0242ac1c000c\"] = google.colab.output.setActiveOutputArea(window[\"549efa18-ae61-11ed-b21c-0242ac1c000c\"]);\n",
              "//# sourceURL=js_86c68d4e96"
            ]
          },
          "metadata": {}
        },
        {
          "output_type": "display_data",
          "data": {
            "text/plain": [
              "<IPython.core.display.Javascript object>"
            ],
            "application/javascript": [
              "window[\"54c53f20-ae61-11ed-b21c-0242ac1c000c\"] = google.colab.output.setActiveOutputArea(window[\"549e5798-ae61-11ed-b21c-0242ac1c000c\"]);\n",
              "//# sourceURL=js_6af4f983d1"
            ]
          },
          "metadata": {}
        },
        {
          "output_type": "display_data",
          "data": {
            "text/plain": [
              "<IPython.core.display.Javascript object>"
            ],
            "application/javascript": [
              "window[\"5560ee52-ae61-11ed-b21c-0242ac1c000c\"] = google.colab.output.getActiveOutputArea();\n",
              "//# sourceURL=js_67e374faf6"
            ]
          },
          "metadata": {}
        },
        {
          "output_type": "display_data",
          "data": {
            "text/plain": [
              "<IPython.core.display.Javascript object>"
            ],
            "application/javascript": [
              "window[\"55618e34-ae61-11ed-b21c-0242ac1c000c\"] = document.querySelector(\"#id24-0-0\");\n",
              "//# sourceURL=js_58fa487e2b"
            ]
          },
          "metadata": {}
        },
        {
          "output_type": "display_data",
          "data": {
            "text/plain": [
              "<IPython.core.display.Javascript object>"
            ],
            "application/javascript": [
              "window[\"5561e672-ae61-11ed-b21c-0242ac1c000c\"] = google.colab.output.setActiveOutputArea(window[\"55618e34-ae61-11ed-b21c-0242ac1c000c\"]);\n",
              "//# sourceURL=js_eb8e3defdb"
            ]
          },
          "metadata": {}
        },
        {
          "output_type": "display_data",
          "data": {
            "text/plain": [
              "<IPython.core.display.Javascript object>"
            ],
            "application/javascript": [
              "window[\"55797e40-ae61-11ed-b21c-0242ac1c000c\"] = google.colab.output.setActiveOutputArea(window[\"5560ee52-ae61-11ed-b21c-0242ac1c000c\"]);\n",
              "//# sourceURL=js_309f939313"
            ]
          },
          "metadata": {}
        },
        {
          "output_type": "display_data",
          "data": {
            "text/plain": [
              "<IPython.core.display.Javascript object>"
            ],
            "application/javascript": [
              "window[\"5614a4ec-ae61-11ed-b21c-0242ac1c000c\"] = google.colab.output.getActiveOutputArea();\n",
              "//# sourceURL=js_2156d97559"
            ]
          },
          "metadata": {}
        },
        {
          "output_type": "display_data",
          "data": {
            "text/plain": [
              "<IPython.core.display.Javascript object>"
            ],
            "application/javascript": [
              "window[\"5614eb3c-ae61-11ed-b21c-0242ac1c000c\"] = document.querySelector(\"#id24-0-0\");\n",
              "//# sourceURL=js_2eb10cda0d"
            ]
          },
          "metadata": {}
        },
        {
          "output_type": "display_data",
          "data": {
            "text/plain": [
              "<IPython.core.display.Javascript object>"
            ],
            "application/javascript": [
              "window[\"56152e4e-ae61-11ed-b21c-0242ac1c000c\"] = google.colab.output.setActiveOutputArea(window[\"5614eb3c-ae61-11ed-b21c-0242ac1c000c\"]);\n",
              "//# sourceURL=js_9bb312e394"
            ]
          },
          "metadata": {}
        },
        {
          "output_type": "display_data",
          "data": {
            "text/plain": [
              "<IPython.core.display.Javascript object>"
            ],
            "application/javascript": [
              "window[\"562b1632-ae61-11ed-b21c-0242ac1c000c\"] = google.colab.output.setActiveOutputArea(window[\"5614a4ec-ae61-11ed-b21c-0242ac1c000c\"]);\n",
              "//# sourceURL=js_e806e9992f"
            ]
          },
          "metadata": {}
        },
        {
          "output_type": "display_data",
          "data": {
            "text/plain": [
              "<IPython.core.display.Javascript object>"
            ],
            "application/javascript": [
              "window[\"56c63946-ae61-11ed-b21c-0242ac1c000c\"] = google.colab.output.getActiveOutputArea();\n",
              "//# sourceURL=js_2892c5f060"
            ]
          },
          "metadata": {}
        },
        {
          "output_type": "display_data",
          "data": {
            "text/plain": [
              "<IPython.core.display.Javascript object>"
            ],
            "application/javascript": [
              "window[\"56c68770-ae61-11ed-b21c-0242ac1c000c\"] = document.querySelector(\"#id24-0-0\");\n",
              "//# sourceURL=js_ea43e5cc4d"
            ]
          },
          "metadata": {}
        },
        {
          "output_type": "display_data",
          "data": {
            "text/plain": [
              "<IPython.core.display.Javascript object>"
            ],
            "application/javascript": [
              "window[\"56c6ccbc-ae61-11ed-b21c-0242ac1c000c\"] = google.colab.output.setActiveOutputArea(window[\"56c68770-ae61-11ed-b21c-0242ac1c000c\"]);\n",
              "//# sourceURL=js_5bc454bcfc"
            ]
          },
          "metadata": {}
        },
        {
          "output_type": "display_data",
          "data": {
            "text/plain": [
              "<IPython.core.display.Javascript object>"
            ],
            "application/javascript": [
              "window[\"56dc7c60-ae61-11ed-b21c-0242ac1c000c\"] = google.colab.output.setActiveOutputArea(window[\"56c63946-ae61-11ed-b21c-0242ac1c000c\"]);\n",
              "//# sourceURL=js_becd8cbabf"
            ]
          },
          "metadata": {}
        },
        {
          "output_type": "display_data",
          "data": {
            "text/plain": [
              "<IPython.core.display.Javascript object>"
            ],
            "application/javascript": [
              "window[\"57774e98-ae61-11ed-b21c-0242ac1c000c\"] = google.colab.output.getActiveOutputArea();\n",
              "//# sourceURL=js_ae0c86bba8"
            ]
          },
          "metadata": {}
        },
        {
          "output_type": "display_data",
          "data": {
            "text/plain": [
              "<IPython.core.display.Javascript object>"
            ],
            "application/javascript": [
              "window[\"5777952e-ae61-11ed-b21c-0242ac1c000c\"] = document.querySelector(\"#id24-0-0\");\n",
              "//# sourceURL=js_96724d735f"
            ]
          },
          "metadata": {}
        },
        {
          "output_type": "display_data",
          "data": {
            "text/plain": [
              "<IPython.core.display.Javascript object>"
            ],
            "application/javascript": [
              "window[\"577830ec-ae61-11ed-b21c-0242ac1c000c\"] = google.colab.output.setActiveOutputArea(window[\"5777952e-ae61-11ed-b21c-0242ac1c000c\"]);\n",
              "//# sourceURL=js_ed931c9ce3"
            ]
          },
          "metadata": {}
        },
        {
          "output_type": "display_data",
          "data": {
            "text/plain": [
              "<IPython.core.display.Javascript object>"
            ],
            "application/javascript": [
              "window[\"578db2a0-ae61-11ed-b21c-0242ac1c000c\"] = google.colab.output.setActiveOutputArea(window[\"57774e98-ae61-11ed-b21c-0242ac1c000c\"]);\n",
              "//# sourceURL=js_3e072d5bf3"
            ]
          },
          "metadata": {}
        },
        {
          "output_type": "display_data",
          "data": {
            "text/plain": [
              "<IPython.core.display.Javascript object>"
            ],
            "application/javascript": [
              "window[\"582989be-ae61-11ed-b21c-0242ac1c000c\"] = google.colab.output.getActiveOutputArea();\n",
              "//# sourceURL=js_cca6ceb6ee"
            ]
          },
          "metadata": {}
        },
        {
          "output_type": "display_data",
          "data": {
            "text/plain": [
              "<IPython.core.display.Javascript object>"
            ],
            "application/javascript": [
              "window[\"5829dc98-ae61-11ed-b21c-0242ac1c000c\"] = document.querySelector(\"#id24-0-0\");\n",
              "//# sourceURL=js_4cddf1dfc0"
            ]
          },
          "metadata": {}
        },
        {
          "output_type": "display_data",
          "data": {
            "text/plain": [
              "<IPython.core.display.Javascript object>"
            ],
            "application/javascript": [
              "window[\"582a5a60-ae61-11ed-b21c-0242ac1c000c\"] = google.colab.output.setActiveOutputArea(window[\"5829dc98-ae61-11ed-b21c-0242ac1c000c\"]);\n",
              "//# sourceURL=js_cc18c2b493"
            ]
          },
          "metadata": {}
        },
        {
          "output_type": "display_data",
          "data": {
            "text/plain": [
              "<IPython.core.display.Javascript object>"
            ],
            "application/javascript": [
              "window[\"5842057a-ae61-11ed-b21c-0242ac1c000c\"] = google.colab.output.setActiveOutputArea(window[\"582989be-ae61-11ed-b21c-0242ac1c000c\"]);\n",
              "//# sourceURL=js_4611e4b612"
            ]
          },
          "metadata": {}
        },
        {
          "output_type": "display_data",
          "data": {
            "text/plain": [
              "<IPython.core.display.Javascript object>"
            ],
            "application/javascript": [
              "window[\"58dd5232-ae61-11ed-b21c-0242ac1c000c\"] = google.colab.output.getActiveOutputArea();\n",
              "//# sourceURL=js_5efab35ef5"
            ]
          },
          "metadata": {}
        },
        {
          "output_type": "display_data",
          "data": {
            "text/plain": [
              "<IPython.core.display.Javascript object>"
            ],
            "application/javascript": [
              "window[\"58dd980a-ae61-11ed-b21c-0242ac1c000c\"] = document.querySelector(\"#id24-0-0\");\n",
              "//# sourceURL=js_f63076fd7e"
            ]
          },
          "metadata": {}
        },
        {
          "output_type": "display_data",
          "data": {
            "text/plain": [
              "<IPython.core.display.Javascript object>"
            ],
            "application/javascript": [
              "window[\"58de31ca-ae61-11ed-b21c-0242ac1c000c\"] = google.colab.output.setActiveOutputArea(window[\"58dd980a-ae61-11ed-b21c-0242ac1c000c\"]);\n",
              "//# sourceURL=js_fef4ea836d"
            ]
          },
          "metadata": {}
        },
        {
          "output_type": "display_data",
          "data": {
            "text/plain": [
              "<IPython.core.display.Javascript object>"
            ],
            "application/javascript": [
              "window[\"58f40e96-ae61-11ed-b21c-0242ac1c000c\"] = google.colab.output.setActiveOutputArea(window[\"58dd5232-ae61-11ed-b21c-0242ac1c000c\"]);\n",
              "//# sourceURL=js_9958d10c26"
            ]
          },
          "metadata": {}
        },
        {
          "output_type": "display_data",
          "data": {
            "text/plain": [
              "<IPython.core.display.Javascript object>"
            ],
            "application/javascript": [
              "window[\"598f87cc-ae61-11ed-b21c-0242ac1c000c\"] = google.colab.output.getActiveOutputArea();\n",
              "//# sourceURL=js_e8975d0749"
            ]
          },
          "metadata": {}
        },
        {
          "output_type": "display_data",
          "data": {
            "text/plain": [
              "<IPython.core.display.Javascript object>"
            ],
            "application/javascript": [
              "window[\"599003e6-ae61-11ed-b21c-0242ac1c000c\"] = document.querySelector(\"#id24-0-0\");\n",
              "//# sourceURL=js_115df4da21"
            ]
          },
          "metadata": {}
        },
        {
          "output_type": "display_data",
          "data": {
            "text/plain": [
              "<IPython.core.display.Javascript object>"
            ],
            "application/javascript": [
              "window[\"599042fc-ae61-11ed-b21c-0242ac1c000c\"] = google.colab.output.setActiveOutputArea(window[\"599003e6-ae61-11ed-b21c-0242ac1c000c\"]);\n",
              "//# sourceURL=js_e8c4e140f5"
            ]
          },
          "metadata": {}
        },
        {
          "output_type": "display_data",
          "data": {
            "text/plain": [
              "<IPython.core.display.Javascript object>"
            ],
            "application/javascript": [
              "window[\"59a64426-ae61-11ed-b21c-0242ac1c000c\"] = google.colab.output.setActiveOutputArea(window[\"598f87cc-ae61-11ed-b21c-0242ac1c000c\"]);\n",
              "//# sourceURL=js_c5d05f92e7"
            ]
          },
          "metadata": {}
        },
        {
          "output_type": "display_data",
          "data": {
            "text/plain": [
              "<IPython.core.display.Javascript object>"
            ],
            "application/javascript": [
              "window[\"5a416c6c-ae61-11ed-b21c-0242ac1c000c\"] = google.colab.output.getActiveOutputArea();\n",
              "//# sourceURL=js_4592707e87"
            ]
          },
          "metadata": {}
        },
        {
          "output_type": "display_data",
          "data": {
            "text/plain": [
              "<IPython.core.display.Javascript object>"
            ],
            "application/javascript": [
              "window[\"5a41b9f6-ae61-11ed-b21c-0242ac1c000c\"] = document.querySelector(\"#id24-0-0\");\n",
              "//# sourceURL=js_b1e93f68a7"
            ]
          },
          "metadata": {}
        },
        {
          "output_type": "display_data",
          "data": {
            "text/plain": [
              "<IPython.core.display.Javascript object>"
            ],
            "application/javascript": [
              "window[\"5a425ad2-ae61-11ed-b21c-0242ac1c000c\"] = google.colab.output.setActiveOutputArea(window[\"5a41b9f6-ae61-11ed-b21c-0242ac1c000c\"]);\n",
              "//# sourceURL=js_106f937fa7"
            ]
          },
          "metadata": {}
        },
        {
          "output_type": "display_data",
          "data": {
            "text/plain": [
              "<Figure size 432x288 with 1 Axes>"
            ],
            "image/png": "[encoded data removed]"
          },
          "metadata": {
            "needs_background": "light"
          }
        },
        {
          "output_type": "display_data",
          "data": {
            "text/plain": [
              "<IPython.core.display.Javascript object>"
            ],
            "application/javascript": [
              "window[\"5a58f292-ae61-11ed-b21c-0242ac1c000c\"] = google.colab.output.setActiveOutputArea(window[\"5a416c6c-ae61-11ed-b21c-0242ac1c000c\"]);\n",
              "//# sourceURL=js_5fb3a90410"
            ]
          },
          "metadata": {}
        }
      ]
    },
    {
      "cell_type": "code",
      "source": [
        "env = GridEnvironment(\"deterministic\")\n",
        "agent = RandomAgent(env)\n",
        "\n",
        "obs, info = env.reset()\n",
        "terminated, truncated = False, False\n",
        "\n",
        "output_grid = widgets.Grid(1, 1)\n",
        "with output_grid.output_to(0, 0):\n",
        "  env.render()\n",
        "\n",
        "while not terminated:\n",
        "  action = agent.step(obs)\n",
        "  reward, terminated = env.step(action)\n",
        "  with output_grid.output_to(0, 0):\n",
        "    output_grid.clear_cell()\n",
        "    env.render()\n",
        "  time.sleep(1)"
      ],
      "metadata": {
        "colab": {
          "base_uri": "https://localhost:8080/",
          "height": 272
        },
        "id": "fYmKCVxGEjUR",
        "outputId": "77c1b284-a21b-4a4c-e86f-9ba8177b6ed9"
      },
      "execution_count": 44,
      "outputs": [
        {
          "output_type": "display_data",
          "data": {
            "text/plain": [
              "<IPython.core.display.HTML object>"
            ],
            "text/html": [
              "<style>\n",
              "       table#id26, #id26 > tbody > tr > th, #id26 > tbody > tr > td {\n",
              "         border: 1px solid lightgray;\n",
              "         border-collapse:collapse;\n",
              "         \n",
              "        }</style>"
            ]
          },
          "metadata": {}
        },
        {
          "output_type": "display_data",
          "data": {
            "text/plain": [
              "<IPython.core.display.HTML object>"
            ],
            "text/html": [
              "<table id=id26><tr><td id=id26-0-0></td></tr></table>"
            ]
          },
          "metadata": {}
        },
        {
          "output_type": "display_data",
          "data": {
            "text/plain": [
              "<IPython.core.display.Javascript object>"
            ],
            "application/javascript": [
              "window[\"5c4c4590-ae61-11ed-b21c-0242ac1c000c\"] = google.colab.output.getActiveOutputArea();\n",
              "//# sourceURL=js_d2e34a7044"
            ]
          },
          "metadata": {}
        },
        {
          "output_type": "display_data",
          "data": {
            "text/plain": [
              "<IPython.core.display.Javascript object>"
            ],
            "application/javascript": [
              "window[\"5c4c904a-ae61-11ed-b21c-0242ac1c000c\"] = document.querySelector(\"#id26-0-0\");\n",
              "//# sourceURL=js_20df9b85cc"
            ]
          },
          "metadata": {}
        },
        {
          "output_type": "display_data",
          "data": {
            "text/plain": [
              "<IPython.core.display.Javascript object>"
            ],
            "application/javascript": [
              "window[\"5c4cdc12-ae61-11ed-b21c-0242ac1c000c\"] = google.colab.output.setActiveOutputArea(window[\"5c4c904a-ae61-11ed-b21c-0242ac1c000c\"]);\n",
              "//# sourceURL=js_2294ea614f"
            ]
          },
          "metadata": {}
        },
        {
          "output_type": "display_data",
          "data": {
            "text/plain": [
              "<IPython.core.display.Javascript object>"
            ],
            "application/javascript": [
              "window[\"5c624390-ae61-11ed-b21c-0242ac1c000c\"] = google.colab.output.setActiveOutputArea(window[\"5c4c4590-ae61-11ed-b21c-0242ac1c000c\"]);\n",
              "//# sourceURL=js_dbd0791d48"
            ]
          },
          "metadata": {}
        },
        {
          "output_type": "display_data",
          "data": {
            "text/plain": [
              "<IPython.core.display.Javascript object>"
            ],
            "application/javascript": [
              "window[\"5c64992e-ae61-11ed-b21c-0242ac1c000c\"] = google.colab.output.getActiveOutputArea();\n",
              "//# sourceURL=js_8a350286f7"
            ]
          },
          "metadata": {}
        },
        {
          "output_type": "display_data",
          "data": {
            "text/plain": [
              "<IPython.core.display.Javascript object>"
            ],
            "application/javascript": [
              "window[\"5c64dfe2-ae61-11ed-b21c-0242ac1c000c\"] = document.querySelector(\"#id26-0-0\");\n",
              "//# sourceURL=js_d65a93080c"
            ]
          },
          "metadata": {}
        },
        {
          "output_type": "display_data",
          "data": {
            "text/plain": [
              "<IPython.core.display.Javascript object>"
            ],
            "application/javascript": [
              "window[\"5c652434-ae61-11ed-b21c-0242ac1c000c\"] = google.colab.output.setActiveOutputArea(window[\"5c64dfe2-ae61-11ed-b21c-0242ac1c000c\"]);\n",
              "//# sourceURL=js_5d1b9a057f"
            ]
          },
          "metadata": {}
        },
        {
          "output_type": "display_data",
          "data": {
            "text/plain": [
              "<IPython.core.display.Javascript object>"
            ],
            "application/javascript": [
              "window[\"5c7cc684-ae61-11ed-b21c-0242ac1c000c\"] = google.colab.output.setActiveOutputArea(window[\"5c64992e-ae61-11ed-b21c-0242ac1c000c\"]);\n",
              "//# sourceURL=js_fe2c243d62"
            ]
          },
          "metadata": {}
        },
        {
          "output_type": "display_data",
          "data": {
            "text/plain": [
              "<IPython.core.display.Javascript object>"
            ],
            "application/javascript": [
              "window[\"5d18b738-ae61-11ed-b21c-0242ac1c000c\"] = google.colab.output.getActiveOutputArea();\n",
              "//# sourceURL=js_d1ad1285cd"
            ]
          },
          "metadata": {}
        },
        {
          "output_type": "display_data",
          "data": {
            "text/plain": [
              "<IPython.core.display.Javascript object>"
            ],
            "application/javascript": [
              "window[\"5d195e7c-ae61-11ed-b21c-0242ac1c000c\"] = document.querySelector(\"#id26-0-0\");\n",
              "//# sourceURL=js_30fdf54041"
            ]
          },
          "metadata": {}
        },
        {
          "output_type": "display_data",
          "data": {
            "text/plain": [
              "<IPython.core.display.Javascript object>"
            ],
            "application/javascript": [
              "window[\"5d19beee-ae61-11ed-b21c-0242ac1c000c\"] = google.colab.output.setActiveOutputArea(window[\"5d195e7c-ae61-11ed-b21c-0242ac1c000c\"]);\n",
              "//# sourceURL=js_bca127f8a4"
            ]
          },
          "metadata": {}
        },
        {
          "output_type": "display_data",
          "data": {
            "text/plain": [
              "<IPython.core.display.Javascript object>"
            ],
            "application/javascript": [
              "window[\"5d427faa-ae61-11ed-b21c-0242ac1c000c\"] = google.colab.output.setActiveOutputArea(window[\"5d18b738-ae61-11ed-b21c-0242ac1c000c\"]);\n",
              "//# sourceURL=js_ffb862e5c3"
            ]
          },
          "metadata": {}
        },
        {
          "output_type": "display_data",
          "data": {
            "text/plain": [
              "<IPython.core.display.Javascript object>"
            ],
            "application/javascript": [
              "window[\"5ddd50d4-ae61-11ed-b21c-0242ac1c000c\"] = google.colab.output.getActiveOutputArea();\n",
              "//# sourceURL=js_1f7c95f809"
            ]
          },
          "metadata": {}
        },
        {
          "output_type": "display_data",
          "data": {
            "text/plain": [
              "<IPython.core.display.Javascript object>"
            ],
            "application/javascript": [
              "window[\"5ddd968e-ae61-11ed-b21c-0242ac1c000c\"] = document.querySelector(\"#id26-0-0\");\n",
              "//# sourceURL=js_e82747acdd"
            ]
          },
          "metadata": {}
        },
        {
          "output_type": "display_data",
          "data": {
            "text/plain": [
              "<IPython.core.display.Javascript object>"
            ],
            "application/javascript": [
              "window[\"5dddd946-ae61-11ed-b21c-0242ac1c000c\"] = google.colab.output.setActiveOutputArea(window[\"5ddd968e-ae61-11ed-b21c-0242ac1c000c\"]);\n",
              "//# sourceURL=js_0ced82ce0c"
            ]
          },
          "metadata": {}
        },
        {
          "output_type": "display_data",
          "data": {
            "text/plain": [
              "<IPython.core.display.Javascript object>"
            ],
            "application/javascript": [
              "window[\"5df6d522-ae61-11ed-b21c-0242ac1c000c\"] = google.colab.output.setActiveOutputArea(window[\"5ddd50d4-ae61-11ed-b21c-0242ac1c000c\"]);\n",
              "//# sourceURL=js_b2184b22fa"
            ]
          },
          "metadata": {}
        },
        {
          "output_type": "display_data",
          "data": {
            "text/plain": [
              "<IPython.core.display.Javascript object>"
            ],
            "application/javascript": [
              "window[\"5e92385a-ae61-11ed-b21c-0242ac1c000c\"] = google.colab.output.getActiveOutputArea();\n",
              "//# sourceURL=js_6f7a83913b"
            ]
          },
          "metadata": {}
        },
        {
          "output_type": "display_data",
          "data": {
            "text/plain": [
              "<IPython.core.display.Javascript object>"
            ],
            "application/javascript": [
              "window[\"5e928c1a-ae61-11ed-b21c-0242ac1c000c\"] = document.querySelector(\"#id26-0-0\");\n",
              "//# sourceURL=js_b0a93732f4"
            ]
          },
          "metadata": {}
        },
        {
          "output_type": "display_data",
          "data": {
            "text/plain": [
              "<IPython.core.display.Javascript object>"
            ],
            "application/javascript": [
              "window[\"5e92e624-ae61-11ed-b21c-0242ac1c000c\"] = google.colab.output.setActiveOutputArea(window[\"5e928c1a-ae61-11ed-b21c-0242ac1c000c\"]);\n",
              "//# sourceURL=js_ed8d7b5183"
            ]
          },
          "metadata": {}
        },
        {
          "output_type": "display_data",
          "data": {
            "text/plain": [
              "<IPython.core.display.Javascript object>"
            ],
            "application/javascript": [
              "window[\"5ea88114-ae61-11ed-b21c-0242ac1c000c\"] = google.colab.output.setActiveOutputArea(window[\"5e92385a-ae61-11ed-b21c-0242ac1c000c\"]);\n",
              "//# sourceURL=js_0d230cd793"
            ]
          },
          "metadata": {}
        },
        {
          "output_type": "display_data",
          "data": {
            "text/plain": [
              "<IPython.core.display.Javascript object>"
            ],
            "application/javascript": [
              "window[\"5f43a428-ae61-11ed-b21c-0242ac1c000c\"] = google.colab.output.getActiveOutputArea();\n",
              "//# sourceURL=js_dd174595b5"
            ]
          },
          "metadata": {}
        },
        {
          "output_type": "display_data",
          "data": {
            "text/plain": [
              "<IPython.core.display.Javascript object>"
            ],
            "application/javascript": [
              "window[\"5f441250-ae61-11ed-b21c-0242ac1c000c\"] = document.querySelector(\"#id26-0-0\");\n",
              "//# sourceURL=js_a71f70428c"
            ]
          },
          "metadata": {}
        },
        {
          "output_type": "display_data",
          "data": {
            "text/plain": [
              "<IPython.core.display.Javascript object>"
            ],
            "application/javascript": [
              "window[\"5f445b16-ae61-11ed-b21c-0242ac1c000c\"] = google.colab.output.setActiveOutputArea(window[\"5f441250-ae61-11ed-b21c-0242ac1c000c\"]);\n",
              "//# sourceURL=js_e186ecdfe8"
            ]
          },
          "metadata": {}
        },
        {
          "output_type": "display_data",
          "data": {
            "text/plain": [
              "<IPython.core.display.Javascript object>"
            ],
            "application/javascript": [
              "window[\"5f5a17a8-ae61-11ed-b21c-0242ac1c000c\"] = google.colab.output.setActiveOutputArea(window[\"5f43a428-ae61-11ed-b21c-0242ac1c000c\"]);\n",
              "//# sourceURL=js_b3ae5b7d37"
            ]
          },
          "metadata": {}
        },
        {
          "output_type": "display_data",
          "data": {
            "text/plain": [
              "<IPython.core.display.Javascript object>"
            ],
            "application/javascript": [
              "window[\"5ff4e1d4-ae61-11ed-b21c-0242ac1c000c\"] = google.colab.output.getActiveOutputArea();\n",
              "//# sourceURL=js_831bb23aad"
            ]
          },
          "metadata": {}
        },
        {
          "output_type": "display_data",
          "data": {
            "text/plain": [
              "<IPython.core.display.Javascript object>"
            ],
            "application/javascript": [
              "window[\"5ff5298c-ae61-11ed-b21c-0242ac1c000c\"] = document.querySelector(\"#id26-0-0\");\n",
              "//# sourceURL=js_d16c3950dc"
            ]
          },
          "metadata": {}
        },
        {
          "output_type": "display_data",
          "data": {
            "text/plain": [
              "<IPython.core.display.Javascript object>"
            ],
            "application/javascript": [
              "window[\"5ff56ee2-ae61-11ed-b21c-0242ac1c000c\"] = google.colab.output.setActiveOutputArea(window[\"5ff5298c-ae61-11ed-b21c-0242ac1c000c\"]);\n",
              "//# sourceURL=js_bb5fc7f815"
            ]
          },
          "metadata": {}
        },
        {
          "output_type": "display_data",
          "data": {
            "text/plain": [
              "<IPython.core.display.Javascript object>"
            ],
            "application/javascript": [
              "window[\"600b5c70-ae61-11ed-b21c-0242ac1c000c\"] = google.colab.output.setActiveOutputArea(window[\"5ff4e1d4-ae61-11ed-b21c-0242ac1c000c\"]);\n",
              "//# sourceURL=js_69c14d1825"
            ]
          },
          "metadata": {}
        },
        {
          "output_type": "display_data",
          "data": {
            "text/plain": [
              "<IPython.core.display.Javascript object>"
            ],
            "application/javascript": [
              "window[\"60a65522-ae61-11ed-b21c-0242ac1c000c\"] = google.colab.output.getActiveOutputArea();\n",
              "//# sourceURL=js_b1e0b94379"
            ]
          },
          "metadata": {}
        },
        {
          "output_type": "display_data",
          "data": {
            "text/plain": [
              "<IPython.core.display.Javascript object>"
            ],
            "application/javascript": [
              "window[\"60a686dc-ae61-11ed-b21c-0242ac1c000c\"] = document.querySelector(\"#id26-0-0\");\n",
              "//# sourceURL=js_73a5f6c843"
            ]
          },
          "metadata": {}
        },
        {
          "output_type": "display_data",
          "data": {
            "text/plain": [
              "<IPython.core.display.Javascript object>"
            ],
            "application/javascript": [
              "window[\"60a6c5b6-ae61-11ed-b21c-0242ac1c000c\"] = google.colab.output.setActiveOutputArea(window[\"60a686dc-ae61-11ed-b21c-0242ac1c000c\"]);\n",
              "//# sourceURL=js_5264ecac36"
            ]
          },
          "metadata": {}
        },
        {
          "output_type": "display_data",
          "data": {
            "text/plain": [
              "<IPython.core.display.Javascript object>"
            ],
            "application/javascript": [
              "window[\"60bdf4a2-ae61-11ed-b21c-0242ac1c000c\"] = google.colab.output.setActiveOutputArea(window[\"60a65522-ae61-11ed-b21c-0242ac1c000c\"]);\n",
              "//# sourceURL=js_e3b9d3b62e"
            ]
          },
          "metadata": {}
        },
        {
          "output_type": "display_data",
          "data": {
            "text/plain": [
              "<IPython.core.display.Javascript object>"
            ],
            "application/javascript": [
              "window[\"615909b0-ae61-11ed-b21c-0242ac1c000c\"] = google.colab.output.getActiveOutputArea();\n",
              "//# sourceURL=js_16773e5cd1"
            ]
          },
          "metadata": {}
        },
        {
          "output_type": "display_data",
          "data": {
            "text/plain": [
              "<IPython.core.display.Javascript object>"
            ],
            "application/javascript": [
              "window[\"61594c86-ae61-11ed-b21c-0242ac1c000c\"] = document.querySelector(\"#id26-0-0\");\n",
              "//# sourceURL=js_89455fd3f1"
            ]
          },
          "metadata": {}
        },
        {
          "output_type": "display_data",
          "data": {
            "text/plain": [
              "<IPython.core.display.Javascript object>"
            ],
            "application/javascript": [
              "window[\"6159a06e-ae61-11ed-b21c-0242ac1c000c\"] = google.colab.output.setActiveOutputArea(window[\"61594c86-ae61-11ed-b21c-0242ac1c000c\"]);\n",
              "//# sourceURL=js_a747bf38c8"
            ]
          },
          "metadata": {}
        },
        {
          "output_type": "display_data",
          "data": {
            "text/plain": [
              "<IPython.core.display.Javascript object>"
            ],
            "application/javascript": [
              "window[\"61702c30-ae61-11ed-b21c-0242ac1c000c\"] = google.colab.output.setActiveOutputArea(window[\"615909b0-ae61-11ed-b21c-0242ac1c000c\"]);\n",
              "//# sourceURL=js_df6a9783bf"
            ]
          },
          "metadata": {}
        },
        {
          "output_type": "display_data",
          "data": {
            "text/plain": [
              "<IPython.core.display.Javascript object>"
            ],
            "application/javascript": [
              "window[\"620b4a76-ae61-11ed-b21c-0242ac1c000c\"] = google.colab.output.getActiveOutputArea();\n",
              "//# sourceURL=js_d29da54bb5"
            ]
          },
          "metadata": {}
        },
        {
          "output_type": "display_data",
          "data": {
            "text/plain": [
              "<IPython.core.display.Javascript object>"
            ],
            "application/javascript": [
              "window[\"620b94fe-ae61-11ed-b21c-0242ac1c000c\"] = document.querySelector(\"#id26-0-0\");\n",
              "//# sourceURL=js_fb0ebdd513"
            ]
          },
          "metadata": {}
        },
        {
          "output_type": "display_data",
          "data": {
            "text/plain": [
              "<IPython.core.display.Javascript object>"
            ],
            "application/javascript": [
              "window[\"620c2bb2-ae61-11ed-b21c-0242ac1c000c\"] = google.colab.output.setActiveOutputArea(window[\"620b94fe-ae61-11ed-b21c-0242ac1c000c\"]);\n",
              "//# sourceURL=js_fcf8186fb8"
            ]
          },
          "metadata": {}
        },
        {
          "output_type": "display_data",
          "data": {
            "text/plain": [
              "<IPython.core.display.Javascript object>"
            ],
            "application/javascript": [
              "window[\"6231e974-ae61-11ed-b21c-0242ac1c000c\"] = google.colab.output.setActiveOutputArea(window[\"620b4a76-ae61-11ed-b21c-0242ac1c000c\"]);\n",
              "//# sourceURL=js_c42478f38f"
            ]
          },
          "metadata": {}
        },
        {
          "output_type": "display_data",
          "data": {
            "text/plain": [
              "<IPython.core.display.Javascript object>"
            ],
            "application/javascript": [
              "window[\"62cda5da-ae61-11ed-b21c-0242ac1c000c\"] = google.colab.output.getActiveOutputArea();\n",
              "//# sourceURL=js_c04782c920"
            ]
          },
          "metadata": {}
        },
        {
          "output_type": "display_data",
          "data": {
            "text/plain": [
              "<IPython.core.display.Javascript object>"
            ],
            "application/javascript": [
              "window[\"62ce49ae-ae61-11ed-b21c-0242ac1c000c\"] = document.querySelector(\"#id26-0-0\");\n",
              "//# sourceURL=js_c25a145681"
            ]
          },
          "metadata": {}
        },
        {
          "output_type": "display_data",
          "data": {
            "text/plain": [
              "<IPython.core.display.Javascript object>"
            ],
            "application/javascript": [
              "window[\"62ce9986-ae61-11ed-b21c-0242ac1c000c\"] = google.colab.output.setActiveOutputArea(window[\"62ce49ae-ae61-11ed-b21c-0242ac1c000c\"]);\n",
              "//# sourceURL=js_f9f96bf377"
            ]
          },
          "metadata": {}
        },
        {
          "output_type": "display_data",
          "data": {
            "text/plain": [
              "<Figure size 432x288 with 1 Axes>"
            ],
            "image/png": "[encoded data removed]"
          },
          "metadata": {
            "needs_background": "light"
          }
        },
        {
          "output_type": "display_data",
          "data": {
            "text/plain": [
              "<IPython.core.display.Javascript object>"
            ],
            "application/javascript": [
              "window[\"62f3cddc-ae61-11ed-b21c-0242ac1c000c\"] = google.colab.output.setActiveOutputArea(window[\"62cda5da-ae61-11ed-b21c-0242ac1c000c\"]);\n",
              "//# sourceURL=js_3711bd2203"
            ]
          },
          "metadata": {}
        }
      ]
    },
    {
      "cell_type": "code",
      "source": [
        "# Generating reward values.\n",
        "initial_rewards = np.random.choice([-50, -100, 100], 100, p=[0.7, 0.29, 0.01])\n",
        "intermediate_rewards = np.random.choice([-50, -100, 100], 100, p=[0.6, 0.25, 0.15])\n",
        "final_rewards_1 = np.random.choice([-50, -100, 100], 100, p=[0.3, 0.1, 0.6])\n",
        "final_rewards_2 = np.random.choice([-50, -100, 100], 100, p=[0.05, 0.05, 0.9])\n",
        "final_rewards_3 = np.random.choice([-50, -100, 100], 100, p=[0.00, 0.00, 1])\n",
        "\n",
        "reward_per_episode = np.concatenate((initial_rewards, intermediate_rewards,\n",
        "                                    final_rewards_1, final_rewards_2, final_rewards_3))\n",
        "\n",
        "# Reward Dynamics\n",
        "plt.figure(figsize=(15, 10))\n",
        "plt.plot(reward_per_episode, 'ro')\n",
        "plt.xlabel('Episode', fontsize=28)\n",
        "plt.ylabel('Reward Value', fontsize=28)\n",
        "plt.title('Rewards Per Episode (Training)', fontsize=36)\n",
        "plt.xticks(fontsize=24)\n",
        "plt.yticks([-100, -50, 0, 50, 100], fontsize=24)\n",
        "plt.ylim(ymin=-102, ymax=102)\n",
        "plt.xlim(xmin=0, xmax=500)\n",
        "plt.grid()\n",
        "plt.show()"
      ],
      "metadata": {
        "colab": {
          "base_uri": "https://localhost:8080/",
          "height": 672
        },
        "id": "fu9yQyeuyCNQ",
        "outputId": "aeb73a00-cc81-4807-a8a1-912b2e3d037b"
      },
      "execution_count": 40,
      "outputs": [
        {
          "output_type": "display_data",
          "data": {
            "text/plain": [
              "<Figure size 1080x720 with 1 Axes>"
            ],
            "image/png": "[encoded data removed]"
          },
          "metadata": {
            "needs_background": "light"
          }
        }
      ]
    }
  ]
}