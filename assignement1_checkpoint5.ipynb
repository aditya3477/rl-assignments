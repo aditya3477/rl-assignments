{
  "nbformat": 4,
  "nbformat_minor": 0,
  "metadata": {
    "colab": {
      "provenance": [],
      "authorship_tag": "ABX9TyNls0NHrVNafpmirXY4J+zI",
      "include_colab_link": true
    },
    "kernelspec": {
      "name": "python3",
      "display_name": "Python 3"
    },
    "language_info": {
      "name": "python"
    }
  },
  "cells": [
    {
      "cell_type": "markdown",
      "metadata": {
        "id": "view-in-github",
        "colab_type": "text"
      },
      "source": [
        "<a href=\"https://colab.research.google.com/github/aditya3477/rl-assignments/blob/main/assignement1_checkpoint5.ipynb\" target=\"_parent\"><img src=\"https://colab.research.google.com/assets/colab-badge.svg\" alt=\"Open In Colab\"/></a>"
      ]
    },
    {
      "cell_type": "code",
      "execution_count": 1,
      "metadata": {
        "colab": {
          "base_uri": "https://localhost:8080/"
        },
        "id": "n60Vi-rNxozV",
        "outputId": "70fb4aaa-7398-49c0-85d4-b47acebbe1c6"
      },
      "outputs": [
        {
          "output_type": "stream",
          "name": "stdout",
          "text": [
            "Looking in indexes: https://pypi.org/simple, https://us-python.pkg.dev/colab-wheels/public/simple/\n",
            "Collecting gymnasium\n",
            "  Downloading gymnasium-0.27.1-py3-none-any.whl (883 kB)\n",
            "\u001b[2K     \u001b[90m━━━━━━━━━━━━━━━━━━━━━━━━━━━━━━━━━━━━━━\u001b[0m \u001b[32m883.7/883.7 KB\u001b[0m \u001b[31m18.3 MB/s\u001b[0m eta \u001b[36m0:00:00\u001b[0m\n",
            "\u001b[?25hRequirement already satisfied: matplotlib in /usr/local/lib/python3.8/dist-packages (3.2.2)\n",
            "Requirement already satisfied: numpy in /usr/local/lib/python3.8/dist-packages (1.21.6)\n",
            "Collecting gymnasium-notices>=0.0.1\n",
            "  Downloading gymnasium_notices-0.0.1-py3-none-any.whl (2.8 kB)\n",
            "Collecting jax-jumpy>=0.2.0\n",
            "  Downloading jax_jumpy-0.2.0-py3-none-any.whl (11 kB)\n",
            "Requirement already satisfied: importlib-metadata>=4.8.0 in /usr/local/lib/python3.8/dist-packages (from gymnasium) (6.0.0)\n",
            "Requirement already satisfied: typing-extensions>=4.3.0 in /usr/local/lib/python3.8/dist-packages (from gymnasium) (4.4.0)\n",
            "Requirement already satisfied: cloudpickle>=1.2.0 in /usr/local/lib/python3.8/dist-packages (from gymnasium) (2.2.1)\n",
            "Requirement already satisfied: pyparsing!=2.0.4,!=2.1.2,!=2.1.6,>=2.0.1 in /usr/local/lib/python3.8/dist-packages (from matplotlib) (3.0.9)\n",
            "Requirement already satisfied: cycler>=0.10 in /usr/local/lib/python3.8/dist-packages (from matplotlib) (0.11.0)\n",
            "Requirement already satisfied: kiwisolver>=1.0.1 in /usr/local/lib/python3.8/dist-packages (from matplotlib) (1.4.4)\n",
            "Requirement already satisfied: python-dateutil>=2.1 in /usr/local/lib/python3.8/dist-packages (from matplotlib) (2.8.2)\n",
            "Requirement already satisfied: zipp>=0.5 in /usr/local/lib/python3.8/dist-packages (from importlib-metadata>=4.8.0->gymnasium) (3.12.1)\n",
            "Requirement already satisfied: six>=1.5 in /usr/local/lib/python3.8/dist-packages (from python-dateutil>=2.1->matplotlib) (1.15.0)\n",
            "Installing collected packages: gymnasium-notices, jax-jumpy, gymnasium\n",
            "Successfully installed gymnasium-0.27.1 gymnasium-notices-0.0.1 jax-jumpy-0.2.0\n"
          ]
        }
      ],
      "source": [
        "!pip install gymnasium matplotlib numpy"
      ]
    },
    {
      "cell_type": "code",
      "source": [
        "from google.colab import widgets\n",
        "import gymnasium as gym\n",
        "from gymnasium import spaces\n",
        "import matplotlib.pyplot as plt\n",
        "import numpy as np\n",
        "import time\n",
        "import random"
      ],
      "metadata": {
        "id": "iSQEqkIFxuR-"
      },
      "execution_count": 139,
      "outputs": []
    },
    {
      "cell_type": "code",
      "source": [
        "class Environment(gym.Env):\n",
        "    \n",
        "    def __init__(self,env_choice):\n",
        "        #setting up the environment\n",
        "        \n",
        "        self.type = env_choice\n",
        "\n",
        "        self.observation_space = spaces.Discrete(25)\n",
        "        self.action_space = spaces.Discrete(5)\n",
        "        self.max_timesteps = 10\n",
        "        self.timestep = 0\n",
        "        self.agent_pos = [0, 0]\n",
        "        self.goal_pos = [3, 3]\n",
        "        self.gold_coin_pos = [1,3]\n",
        "        self.monster_pos = [2,1]\n",
        "        self.diamond_pos = [3,0]\n",
        "        self.state = np.zeros((4,4))\n",
        "        self.state[tuple(self.agent_pos)] = 1\n",
        "        self.state[tuple(self.goal_pos)] = 5\n",
        "        self.state[tuple(self.monster_pos)] = 3\n",
        "        self.state[tuple(self.gold_coin_pos)] = 2\n",
        "        self.state[tuple(self.diamond_pos)] = 4\n",
        "\n",
        "        \n",
        "    def reset(self, **kwargs):\n",
        "\n",
        "        self.state = np.zeros((4,4))\n",
        "        self.state[tuple(self.agent_pos)] = 1\n",
        "        self.state[tuple(self.goal_pos)] = 5\n",
        "        self.state[tuple(self.monster_pos)] = 3\n",
        "        self.state[tuple(self.gold_coin_pos)] = 2\n",
        "        self.state[tuple(self.diamond_pos)] = 4\n",
        "        observation = self.state.flatten()\n",
        "\n",
        "        info = {}\n",
        "\n",
        "        return observation, info\n",
        "    \n",
        "\n",
        "\n",
        "    def step(self, action):\n",
        "\n",
        "      #actions to be executed by the agent\n",
        "        \n",
        "      if self.type == 1:\n",
        "        random_number = random.random()\n",
        "        if random_number < 0.9:\n",
        "            if action == 0:\n",
        "                self.agent_pos[0] += 1\n",
        "            if action == 1:\n",
        "                self.agent_pos[0] -= 1\n",
        "            if action == 2:\n",
        "                self.agent_pos[1] += 1\n",
        "            if action == 3:\n",
        "                self.agent_pos[1] -= 1\n",
        "        \n",
        "      else:\n",
        "            if action == 0:\n",
        "              self.agent_pos[0] += 1\n",
        "            if action == 1:\n",
        "              self.agent_pos[0] -= 1\n",
        "            if action == 2:\n",
        "              self.agent_pos[1] += 1\n",
        "            if action == 3:\n",
        "              self.agent_pos[1] -= 1\n",
        "\n",
        "      self.agent_pos = np.clip(self.agent_pos, 0, 15)\n",
        "\n",
        "      self.state = np.zeros((4,4))\n",
        "      self.state[tuple(self.agent_pos)] = 1\n",
        "      self.state[tuple(self.goal_pos)] = 5\n",
        "      self.state[tuple(self.monster_pos)] = 3\n",
        "      self.state[tuple(self.gold_coin_pos)] = 2\n",
        "      self.state[tuple(self.diamond_pos)] = 4\n",
        "      observation = self.state.flatten()\n",
        "        \n",
        "       #defining different rewards \n",
        "      reward = 0\n",
        "      if np.array_equal(self.agent_pos, self.goal_pos):\n",
        "        reward = 1\n",
        "        print(\"goal reached\")\n",
        "      if np.array_equal(self.agent_pos, self.monster_pos):\n",
        "        reward = -1\n",
        "        print(\"attacked by monster\")\n",
        "      if np.array_equal(self.agent_pos, self.gold_coin_pos):\n",
        "        reward = 0.25\n",
        "        print(\"gold coin collected\")\n",
        "      if np.array_equal(self.agent_pos, self.diamond_pos):\n",
        "        reward = 0.5\n",
        "        print(\"diamond collected\")\n",
        "        \n",
        "      self.timestep += 1\n",
        "\n",
        "      terminated = True if self.timestep >= self.max_timesteps else False\n",
        "\n",
        "      info = {}\n",
        "        \n",
        "      return reward, terminated\n",
        "        \n",
        "    def render(self):\n",
        "        plt.imshow(self.state)"
      ],
      "metadata": {
        "id": "pNv_mjNex3Iq"
      },
      "execution_count": 140,
      "outputs": []
    },
    {
      "cell_type": "code",
      "source": [
        "class RandomAgent:\n",
        "  def __init__(self, env):\n",
        "    self.env = env\n",
        "    self.observation_space = env.observation_space\n",
        "    self.action_space = env.action_space\n",
        "\n",
        "  def step(self, obs):\n",
        "    return np.random.choice(self.action_space.n)"
      ],
      "metadata": {
        "id": "GuX8i3Czx7p-"
      },
      "execution_count": 141,
      "outputs": []
    },
    {
      "cell_type": "code",
      "source": [
        "#to visualize the stochastic environment and run the random agent for 10 steps\n",
        "env_Choice = 1\n",
        "env = Environment(env_Choice)\n",
        "agent = RandomAgent(env)\n",
        "\n",
        "obs, info = env.reset()\n",
        "terminated= False\n",
        "\n",
        "output_grid = widgets.Grid(1, 1)\n",
        "with output_grid.output_to(0, 0):\n",
        "  env.render()\n",
        "\n",
        "while not terminated:\n",
        "  action = agent.step(obs)\n",
        "  reward, terminated = env.step(action)\n",
        "  with output_grid.output_to(0, 0):\n",
        "    output_grid.clear_cell()\n",
        "    env.render()\n",
        "  time.sleep(1)"
      ],
      "metadata": {
        "colab": {
          "base_uri": "https://localhost:8080/",
          "height": 272
        },
        "id": "8lP3PKyLx_Hq",
        "outputId": "6dfcc5b4-6ab2-45b7-e4a7-1dcf07338c69"
      },
      "execution_count": 142,
      "outputs": [
        {
          "output_type": "display_data",
          "data": {
            "text/plain": [
              "<IPython.core.display.HTML object>"
            ],
            "text/html": [
              "<style>\n",
              "       table#id112, #id112 > tbody > tr > th, #id112 > tbody > tr > td {\n",
              "         border: 1px solid lightgray;\n",
              "         border-collapse:collapse;\n",
              "         \n",
              "        }</style>"
            ]
          },
          "metadata": {}
        },
        {
          "output_type": "display_data",
          "data": {
            "text/plain": [
              "<IPython.core.display.HTML object>"
            ],
            "text/html": [
              "<table id=id112><tr><td id=id112-0-0></td></tr></table>"
            ]
          },
          "metadata": {}
        },
        {
          "output_type": "display_data",
          "data": {
            "text/plain": [
              "<IPython.core.display.Javascript object>"
            ],
            "application/javascript": [
              "window[\"e933c1d6-ae7a-11ed-b21c-0242ac1c000c\"] = google.colab.output.getActiveOutputArea();\n",
              "//# sourceURL=js_43fda71675"
            ]
          },
          "metadata": {}
        },
        {
          "output_type": "display_data",
          "data": {
            "text/plain": [
              "<IPython.core.display.Javascript object>"
            ],
            "application/javascript": [
              "window[\"e9342f7c-ae7a-11ed-b21c-0242ac1c000c\"] = document.querySelector(\"#id112-0-0\");\n",
              "//# sourceURL=js_83194baf82"
            ]
          },
          "metadata": {}
        },
        {
          "output_type": "display_data",
          "data": {
            "text/plain": [
              "<IPython.core.display.Javascript object>"
            ],
            "application/javascript": [
              "window[\"e934c6f8-ae7a-11ed-b21c-0242ac1c000c\"] = google.colab.output.setActiveOutputArea(window[\"e9342f7c-ae7a-11ed-b21c-0242ac1c000c\"]);\n",
              "//# sourceURL=js_c1063e8e1d"
            ]
          },
          "metadata": {}
        },
        {
          "output_type": "display_data",
          "data": {
            "text/plain": [
              "<IPython.core.display.Javascript object>"
            ],
            "application/javascript": [
              "window[\"e94b2b28-ae7a-11ed-b21c-0242ac1c000c\"] = google.colab.output.setActiveOutputArea(window[\"e933c1d6-ae7a-11ed-b21c-0242ac1c000c\"]);\n",
              "//# sourceURL=js_89d714101a"
            ]
          },
          "metadata": {}
        },
        {
          "output_type": "display_data",
          "data": {
            "text/plain": [
              "<IPython.core.display.Javascript object>"
            ],
            "application/javascript": [
              "window[\"e94d403e-ae7a-11ed-b21c-0242ac1c000c\"] = google.colab.output.getActiveOutputArea();\n",
              "//# sourceURL=js_9805a414a9"
            ]
          },
          "metadata": {}
        },
        {
          "output_type": "display_data",
          "data": {
            "text/plain": [
              "<IPython.core.display.Javascript object>"
            ],
            "application/javascript": [
              "window[\"e94d8648-ae7a-11ed-b21c-0242ac1c000c\"] = document.querySelector(\"#id112-0-0\");\n",
              "//# sourceURL=js_f9349f8a1e"
            ]
          },
          "metadata": {}
        },
        {
          "output_type": "display_data",
          "data": {
            "text/plain": [
              "<IPython.core.display.Javascript object>"
            ],
            "application/javascript": [
              "window[\"e94dce0a-ae7a-11ed-b21c-0242ac1c000c\"] = google.colab.output.setActiveOutputArea(window[\"e94d8648-ae7a-11ed-b21c-0242ac1c000c\"]);\n",
              "//# sourceURL=js_2cadcb90e6"
            ]
          },
          "metadata": {}
        },
        {
          "output_type": "display_data",
          "data": {
            "text/plain": [
              "<IPython.core.display.Javascript object>"
            ],
            "application/javascript": [
              "window[\"e963f57c-ae7a-11ed-b21c-0242ac1c000c\"] = google.colab.output.setActiveOutputArea(window[\"e94d403e-ae7a-11ed-b21c-0242ac1c000c\"]);\n",
              "//# sourceURL=js_b08a5e961e"
            ]
          },
          "metadata": {}
        },
        {
          "output_type": "display_data",
          "data": {
            "text/plain": [
              "<IPython.core.display.Javascript object>"
            ],
            "application/javascript": [
              "window[\"e9ffb2b4-ae7a-11ed-b21c-0242ac1c000c\"] = google.colab.output.getActiveOutputArea();\n",
              "//# sourceURL=js_b1f12edc5d"
            ]
          },
          "metadata": {}
        },
        {
          "output_type": "display_data",
          "data": {
            "text/plain": [
              "<IPython.core.display.Javascript object>"
            ],
            "application/javascript": [
              "window[\"ea001f4c-ae7a-11ed-b21c-0242ac1c000c\"] = document.querySelector(\"#id112-0-0\");\n",
              "//# sourceURL=js_74d27d1fef"
            ]
          },
          "metadata": {}
        },
        {
          "output_type": "display_data",
          "data": {
            "text/plain": [
              "<IPython.core.display.Javascript object>"
            ],
            "application/javascript": [
              "window[\"ea0094ea-ae7a-11ed-b21c-0242ac1c000c\"] = google.colab.output.setActiveOutputArea(window[\"ea001f4c-ae7a-11ed-b21c-0242ac1c000c\"]);\n",
              "//# sourceURL=js_bf015bf8ea"
            ]
          },
          "metadata": {}
        },
        {
          "output_type": "display_data",
          "data": {
            "text/plain": [
              "<IPython.core.display.Javascript object>"
            ],
            "application/javascript": [
              "window[\"ea4026aa-ae7a-11ed-b21c-0242ac1c000c\"] = google.colab.output.setActiveOutputArea(window[\"e9ffb2b4-ae7a-11ed-b21c-0242ac1c000c\"]);\n",
              "//# sourceURL=js_d230313160"
            ]
          },
          "metadata": {}
        },
        {
          "output_type": "display_data",
          "data": {
            "text/plain": [
              "<IPython.core.display.Javascript object>"
            ],
            "application/javascript": [
              "window[\"eadb1a20-ae7a-11ed-b21c-0242ac1c000c\"] = google.colab.output.getActiveOutputArea();\n",
              "//# sourceURL=js_5b9bb01f58"
            ]
          },
          "metadata": {}
        },
        {
          "output_type": "display_data",
          "data": {
            "text/plain": [
              "<IPython.core.display.Javascript object>"
            ],
            "application/javascript": [
              "window[\"eadb89e2-ae7a-11ed-b21c-0242ac1c000c\"] = document.querySelector(\"#id112-0-0\");\n",
              "//# sourceURL=js_bb13ea5104"
            ]
          },
          "metadata": {}
        },
        {
          "output_type": "display_data",
          "data": {
            "text/plain": [
              "<IPython.core.display.Javascript object>"
            ],
            "application/javascript": [
              "window[\"eadbd76c-ae7a-11ed-b21c-0242ac1c000c\"] = google.colab.output.setActiveOutputArea(window[\"eadb89e2-ae7a-11ed-b21c-0242ac1c000c\"]);\n",
              "//# sourceURL=js_1a3329acb3"
            ]
          },
          "metadata": {}
        },
        {
          "output_type": "display_data",
          "data": {
            "text/plain": [
              "<IPython.core.display.Javascript object>"
            ],
            "application/javascript": [
              "window[\"eafc3476-ae7a-11ed-b21c-0242ac1c000c\"] = google.colab.output.setActiveOutputArea(window[\"eadb1a20-ae7a-11ed-b21c-0242ac1c000c\"]);\n",
              "//# sourceURL=js_743e13c520"
            ]
          },
          "metadata": {}
        },
        {
          "output_type": "display_data",
          "data": {
            "text/plain": [
              "<IPython.core.display.Javascript object>"
            ],
            "application/javascript": [
              "window[\"eb9729c2-ae7a-11ed-b21c-0242ac1c000c\"] = google.colab.output.getActiveOutputArea();\n",
              "//# sourceURL=js_19d221daab"
            ]
          },
          "metadata": {}
        },
        {
          "output_type": "display_data",
          "data": {
            "text/plain": [
              "<IPython.core.display.Javascript object>"
            ],
            "application/javascript": [
              "window[\"eb977300-ae7a-11ed-b21c-0242ac1c000c\"] = document.querySelector(\"#id112-0-0\");\n",
              "//# sourceURL=js_6b139e528d"
            ]
          },
          "metadata": {}
        },
        {
          "output_type": "display_data",
          "data": {
            "text/plain": [
              "<IPython.core.display.Javascript object>"
            ],
            "application/javascript": [
              "window[\"eb97ba36-ae7a-11ed-b21c-0242ac1c000c\"] = google.colab.output.setActiveOutputArea(window[\"eb977300-ae7a-11ed-b21c-0242ac1c000c\"]);\n",
              "//# sourceURL=js_03329f893a"
            ]
          },
          "metadata": {}
        },
        {
          "output_type": "display_data",
          "data": {
            "text/plain": [
              "<IPython.core.display.Javascript object>"
            ],
            "application/javascript": [
              "window[\"ebada5c6-ae7a-11ed-b21c-0242ac1c000c\"] = google.colab.output.setActiveOutputArea(window[\"eb9729c2-ae7a-11ed-b21c-0242ac1c000c\"]);\n",
              "//# sourceURL=js_67295e69c9"
            ]
          },
          "metadata": {}
        },
        {
          "output_type": "display_data",
          "data": {
            "text/plain": [
              "<IPython.core.display.Javascript object>"
            ],
            "application/javascript": [
              "window[\"ec489914-ae7a-11ed-b21c-0242ac1c000c\"] = google.colab.output.getActiveOutputArea();\n",
              "//# sourceURL=js_da8a2d9405"
            ]
          },
          "metadata": {}
        },
        {
          "output_type": "display_data",
          "data": {
            "text/plain": [
              "<IPython.core.display.Javascript object>"
            ],
            "application/javascript": [
              "window[\"ec48e306-ae7a-11ed-b21c-0242ac1c000c\"] = document.querySelector(\"#id112-0-0\");\n",
              "//# sourceURL=js_cff594268e"
            ]
          },
          "metadata": {}
        },
        {
          "output_type": "display_data",
          "data": {
            "text/plain": [
              "<IPython.core.display.Javascript object>"
            ],
            "application/javascript": [
              "window[\"ec4926cc-ae7a-11ed-b21c-0242ac1c000c\"] = google.colab.output.setActiveOutputArea(window[\"ec48e306-ae7a-11ed-b21c-0242ac1c000c\"]);\n",
              "//# sourceURL=js_6611ec2e90"
            ]
          },
          "metadata": {}
        },
        {
          "output_type": "display_data",
          "data": {
            "text/plain": [
              "<IPython.core.display.Javascript object>"
            ],
            "application/javascript": [
              "window[\"ec5e8aa8-ae7a-11ed-b21c-0242ac1c000c\"] = google.colab.output.setActiveOutputArea(window[\"ec489914-ae7a-11ed-b21c-0242ac1c000c\"]);\n",
              "//# sourceURL=js_f8de3be0fb"
            ]
          },
          "metadata": {}
        },
        {
          "output_type": "display_data",
          "data": {
            "text/plain": [
              "<IPython.core.display.Javascript object>"
            ],
            "application/javascript": [
              "window[\"ecfa2ff8-ae7a-11ed-b21c-0242ac1c000c\"] = google.colab.output.getActiveOutputArea();\n",
              "//# sourceURL=js_c40ea87f49"
            ]
          },
          "metadata": {}
        },
        {
          "output_type": "display_data",
          "data": {
            "text/plain": [
              "<IPython.core.display.Javascript object>"
            ],
            "application/javascript": [
              "window[\"ecfaafc8-ae7a-11ed-b21c-0242ac1c000c\"] = document.querySelector(\"#id112-0-0\");\n",
              "//# sourceURL=js_b5f801c683"
            ]
          },
          "metadata": {}
        },
        {
          "output_type": "display_data",
          "data": {
            "text/plain": [
              "<IPython.core.display.Javascript object>"
            ],
            "application/javascript": [
              "window[\"ecfb1256-ae7a-11ed-b21c-0242ac1c000c\"] = google.colab.output.setActiveOutputArea(window[\"ecfaafc8-ae7a-11ed-b21c-0242ac1c000c\"]);\n",
              "//# sourceURL=js_b45d3890eb"
            ]
          },
          "metadata": {}
        },
        {
          "output_type": "display_data",
          "data": {
            "text/plain": [
              "<IPython.core.display.Javascript object>"
            ],
            "application/javascript": [
              "window[\"ed1151ce-ae7a-11ed-b21c-0242ac1c000c\"] = google.colab.output.setActiveOutputArea(window[\"ecfa2ff8-ae7a-11ed-b21c-0242ac1c000c\"]);\n",
              "//# sourceURL=js_a3e2591d9b"
            ]
          },
          "metadata": {}
        },
        {
          "output_type": "display_data",
          "data": {
            "text/plain": [
              "<IPython.core.display.Javascript object>"
            ],
            "application/javascript": [
              "window[\"edacb268-ae7a-11ed-b21c-0242ac1c000c\"] = google.colab.output.getActiveOutputArea();\n",
              "//# sourceURL=js_43981c27f4"
            ]
          },
          "metadata": {}
        },
        {
          "output_type": "display_data",
          "data": {
            "text/plain": [
              "<IPython.core.display.Javascript object>"
            ],
            "application/javascript": [
              "window[\"edad2130-ae7a-11ed-b21c-0242ac1c000c\"] = document.querySelector(\"#id112-0-0\");\n",
              "//# sourceURL=js_c51b2c7e68"
            ]
          },
          "metadata": {}
        },
        {
          "output_type": "display_data",
          "data": {
            "text/plain": [
              "<IPython.core.display.Javascript object>"
            ],
            "application/javascript": [
              "window[\"edad8cb0-ae7a-11ed-b21c-0242ac1c000c\"] = google.colab.output.setActiveOutputArea(window[\"edad2130-ae7a-11ed-b21c-0242ac1c000c\"]);\n",
              "//# sourceURL=js_0d68643355"
            ]
          },
          "metadata": {}
        },
        {
          "output_type": "display_data",
          "data": {
            "text/plain": [
              "<IPython.core.display.Javascript object>"
            ],
            "application/javascript": [
              "window[\"edc30e32-ae7a-11ed-b21c-0242ac1c000c\"] = google.colab.output.setActiveOutputArea(window[\"edacb268-ae7a-11ed-b21c-0242ac1c000c\"]);\n",
              "//# sourceURL=js_d83c9ee335"
            ]
          },
          "metadata": {}
        },
        {
          "output_type": "display_data",
          "data": {
            "text/plain": [
              "<IPython.core.display.Javascript object>"
            ],
            "application/javascript": [
              "window[\"ee5eddee-ae7a-11ed-b21c-0242ac1c000c\"] = google.colab.output.getActiveOutputArea();\n",
              "//# sourceURL=js_dda94dbd81"
            ]
          },
          "metadata": {}
        },
        {
          "output_type": "display_data",
          "data": {
            "text/plain": [
              "<IPython.core.display.Javascript object>"
            ],
            "application/javascript": [
              "window[\"ee5f4ca2-ae7a-11ed-b21c-0242ac1c000c\"] = document.querySelector(\"#id112-0-0\");\n",
              "//# sourceURL=js_79b1c3bd17"
            ]
          },
          "metadata": {}
        },
        {
          "output_type": "display_data",
          "data": {
            "text/plain": [
              "<IPython.core.display.Javascript object>"
            ],
            "application/javascript": [
              "window[\"ee5fc5e2-ae7a-11ed-b21c-0242ac1c000c\"] = google.colab.output.setActiveOutputArea(window[\"ee5f4ca2-ae7a-11ed-b21c-0242ac1c000c\"]);\n",
              "//# sourceURL=js_970ec1b458"
            ]
          },
          "metadata": {}
        },
        {
          "output_type": "display_data",
          "data": {
            "text/plain": [
              "<IPython.core.display.Javascript object>"
            ],
            "application/javascript": [
              "window[\"ee766ca2-ae7a-11ed-b21c-0242ac1c000c\"] = google.colab.output.setActiveOutputArea(window[\"ee5eddee-ae7a-11ed-b21c-0242ac1c000c\"]);\n",
              "//# sourceURL=js_136473009f"
            ]
          },
          "metadata": {}
        },
        {
          "output_type": "display_data",
          "data": {
            "text/plain": [
              "<IPython.core.display.Javascript object>"
            ],
            "application/javascript": [
              "window[\"ef114934-ae7a-11ed-b21c-0242ac1c000c\"] = google.colab.output.getActiveOutputArea();\n",
              "//# sourceURL=js_c256ea1e80"
            ]
          },
          "metadata": {}
        },
        {
          "output_type": "display_data",
          "data": {
            "text/plain": [
              "<IPython.core.display.Javascript object>"
            ],
            "application/javascript": [
              "window[\"ef119272-ae7a-11ed-b21c-0242ac1c000c\"] = document.querySelector(\"#id112-0-0\");\n",
              "//# sourceURL=js_05b74405f2"
            ]
          },
          "metadata": {}
        },
        {
          "output_type": "display_data",
          "data": {
            "text/plain": [
              "<IPython.core.display.Javascript object>"
            ],
            "application/javascript": [
              "window[\"ef1226e2-ae7a-11ed-b21c-0242ac1c000c\"] = google.colab.output.setActiveOutputArea(window[\"ef119272-ae7a-11ed-b21c-0242ac1c000c\"]);\n",
              "//# sourceURL=js_59af7fc348"
            ]
          },
          "metadata": {}
        },
        {
          "output_type": "display_data",
          "data": {
            "text/plain": [
              "<IPython.core.display.Javascript object>"
            ],
            "application/javascript": [
              "window[\"ef28e04e-ae7a-11ed-b21c-0242ac1c000c\"] = google.colab.output.setActiveOutputArea(window[\"ef114934-ae7a-11ed-b21c-0242ac1c000c\"]);\n",
              "//# sourceURL=js_7c7a4c0fee"
            ]
          },
          "metadata": {}
        },
        {
          "output_type": "display_data",
          "data": {
            "text/plain": [
              "<IPython.core.display.Javascript object>"
            ],
            "application/javascript": [
              "window[\"efc3f1f6-ae7a-11ed-b21c-0242ac1c000c\"] = google.colab.output.getActiveOutputArea();\n",
              "//# sourceURL=js_4819ecd717"
            ]
          },
          "metadata": {}
        },
        {
          "output_type": "display_data",
          "data": {
            "text/plain": [
              "<IPython.core.display.Javascript object>"
            ],
            "application/javascript": [
              "window[\"efc43ab2-ae7a-11ed-b21c-0242ac1c000c\"] = document.querySelector(\"#id112-0-0\");\n",
              "//# sourceURL=js_ec99e4609b"
            ]
          },
          "metadata": {}
        },
        {
          "output_type": "display_data",
          "data": {
            "text/plain": [
              "<IPython.core.display.Javascript object>"
            ],
            "application/javascript": [
              "window[\"efc5231e-ae7a-11ed-b21c-0242ac1c000c\"] = google.colab.output.setActiveOutputArea(window[\"efc43ab2-ae7a-11ed-b21c-0242ac1c000c\"]);\n",
              "//# sourceURL=js_6eb904428f"
            ]
          },
          "metadata": {}
        },
        {
          "output_type": "display_data",
          "data": {
            "text/plain": [
              "<Figure size 432x288 with 1 Axes>"
            ],
            "image/png": "[encoded data removed]"
          },
          "metadata": {
            "needs_background": "light"
          }
        },
        {
          "output_type": "display_data",
          "data": {
            "text/plain": [
              "<IPython.core.display.Javascript object>"
            ],
            "application/javascript": [
              "window[\"efdac066-ae7a-11ed-b21c-0242ac1c000c\"] = google.colab.output.setActiveOutputArea(window[\"efc3f1f6-ae7a-11ed-b21c-0242ac1c000c\"]);\n",
              "//# sourceURL=js_af86c6cedc"
            ]
          },
          "metadata": {}
        }
      ]
    },
    {
      "cell_type": "code",
      "source": [
        "#to visualize the deterministic environment and run the random agent for 10 steps\n",
        "env_Choice = 0\n",
        "env = Environment(env_Choice)\n",
        "agent = RandomAgent(env)\n",
        "\n",
        "obs, info = env.reset()\n",
        "terminated= False\n",
        "\n",
        "output_grid = widgets.Grid(1, 1)\n",
        "with output_grid.output_to(0, 0):\n",
        "  env.render()\n",
        "\n",
        "while not terminated:\n",
        "  action = agent.step(obs)\n",
        "  reward, terminated = env.step(action)\n",
        "  with output_grid.output_to(0, 0):\n",
        "    output_grid.clear_cell()\n",
        "    env.render()\n",
        "  time.sleep(1)"
      ],
      "metadata": {
        "colab": {
          "base_uri": "https://localhost:8080/",
          "height": 272
        },
        "id": "fYmKCVxGEjUR",
        "outputId": "ffcd93f7-def4-4d6c-afac-fbee9cbc9ea6"
      },
      "execution_count": 143,
      "outputs": [
        {
          "output_type": "display_data",
          "data": {
            "text/plain": [
              "<IPython.core.display.HTML object>"
            ],
            "text/html": [
              "<style>\n",
              "       table#id114, #id114 > tbody > tr > th, #id114 > tbody > tr > td {\n",
              "         border: 1px solid lightgray;\n",
              "         border-collapse:collapse;\n",
              "         \n",
              "        }</style>"
            ]
          },
          "metadata": {}
        },
        {
          "output_type": "display_data",
          "data": {
            "text/plain": [
              "<IPython.core.display.HTML object>"
            ],
            "text/html": [
              "<table id=id114><tr><td id=id114-0-0></td></tr></table>"
            ]
          },
          "metadata": {}
        },
        {
          "output_type": "display_data",
          "data": {
            "text/plain": [
              "<IPython.core.display.Javascript object>"
            ],
            "application/javascript": [
              "window[\"f12a099a-ae7a-11ed-b21c-0242ac1c000c\"] = google.colab.output.getActiveOutputArea();\n",
              "//# sourceURL=js_41fcd172ae"
            ]
          },
          "metadata": {}
        },
        {
          "output_type": "display_data",
          "data": {
            "text/plain": [
              "<IPython.core.display.Javascript object>"
            ],
            "application/javascript": [
              "window[\"f12a53b4-ae7a-11ed-b21c-0242ac1c000c\"] = document.querySelector(\"#id114-0-0\");\n",
              "//# sourceURL=js_fd3e789bea"
            ]
          },
          "metadata": {}
        },
        {
          "output_type": "display_data",
          "data": {
            "text/plain": [
              "<IPython.core.display.Javascript object>"
            ],
            "application/javascript": [
              "window[\"f12a9360-ae7a-11ed-b21c-0242ac1c000c\"] = google.colab.output.setActiveOutputArea(window[\"f12a53b4-ae7a-11ed-b21c-0242ac1c000c\"]);\n",
              "//# sourceURL=js_559d3a1b8c"
            ]
          },
          "metadata": {}
        },
        {
          "output_type": "display_data",
          "data": {
            "text/plain": [
              "<IPython.core.display.Javascript object>"
            ],
            "application/javascript": [
              "window[\"f14949c2-ae7a-11ed-b21c-0242ac1c000c\"] = google.colab.output.setActiveOutputArea(window[\"f12a099a-ae7a-11ed-b21c-0242ac1c000c\"]);\n",
              "//# sourceURL=js_62bef893b4"
            ]
          },
          "metadata": {}
        },
        {
          "output_type": "display_data",
          "data": {
            "text/plain": [
              "<IPython.core.display.Javascript object>"
            ],
            "application/javascript": [
              "window[\"f14ce47e-ae7a-11ed-b21c-0242ac1c000c\"] = google.colab.output.getActiveOutputArea();\n",
              "//# sourceURL=js_aa259a5b5f"
            ]
          },
          "metadata": {}
        },
        {
          "output_type": "display_data",
          "data": {
            "text/plain": [
              "<IPython.core.display.Javascript object>"
            ],
            "application/javascript": [
              "window[\"f14d2e7a-ae7a-11ed-b21c-0242ac1c000c\"] = document.querySelector(\"#id114-0-0\");\n",
              "//# sourceURL=js_58d6ea5c1e"
            ]
          },
          "metadata": {}
        },
        {
          "output_type": "display_data",
          "data": {
            "text/plain": [
              "<IPython.core.display.Javascript object>"
            ],
            "application/javascript": [
              "window[\"f14d79d4-ae7a-11ed-b21c-0242ac1c000c\"] = google.colab.output.setActiveOutputArea(window[\"f14d2e7a-ae7a-11ed-b21c-0242ac1c000c\"]);\n",
              "//# sourceURL=js_537a649674"
            ]
          },
          "metadata": {}
        },
        {
          "output_type": "display_data",
          "data": {
            "text/plain": [
              "<IPython.core.display.Javascript object>"
            ],
            "application/javascript": [
              "window[\"f16e0e60-ae7a-11ed-b21c-0242ac1c000c\"] = google.colab.output.setActiveOutputArea(window[\"f14ce47e-ae7a-11ed-b21c-0242ac1c000c\"]);\n",
              "//# sourceURL=js_8d8e587fed"
            ]
          },
          "metadata": {}
        },
        {
          "output_type": "display_data",
          "data": {
            "text/plain": [
              "<IPython.core.display.Javascript object>"
            ],
            "application/javascript": [
              "window[\"f209a726-ae7a-11ed-b21c-0242ac1c000c\"] = google.colab.output.getActiveOutputArea();\n",
              "//# sourceURL=js_92090e2e91"
            ]
          },
          "metadata": {}
        },
        {
          "output_type": "display_data",
          "data": {
            "text/plain": [
              "<IPython.core.display.Javascript object>"
            ],
            "application/javascript": [
              "window[\"f209f168-ae7a-11ed-b21c-0242ac1c000c\"] = document.querySelector(\"#id114-0-0\");\n",
              "//# sourceURL=js_a245a342dc"
            ]
          },
          "metadata": {}
        },
        {
          "output_type": "display_data",
          "data": {
            "text/plain": [
              "<IPython.core.display.Javascript object>"
            ],
            "application/javascript": [
              "window[\"f20a3628-ae7a-11ed-b21c-0242ac1c000c\"] = google.colab.output.setActiveOutputArea(window[\"f209f168-ae7a-11ed-b21c-0242ac1c000c\"]);\n",
              "//# sourceURL=js_6f308a4241"
            ]
          },
          "metadata": {}
        },
        {
          "output_type": "display_data",
          "data": {
            "text/plain": [
              "<IPython.core.display.Javascript object>"
            ],
            "application/javascript": [
              "window[\"f2322c3c-ae7a-11ed-b21c-0242ac1c000c\"] = google.colab.output.setActiveOutputArea(window[\"f209a726-ae7a-11ed-b21c-0242ac1c000c\"]);\n",
              "//# sourceURL=js_7251b1f607"
            ]
          },
          "metadata": {}
        },
        {
          "output_type": "display_data",
          "data": {
            "text/plain": [
              "<IPython.core.display.Javascript object>"
            ],
            "application/javascript": [
              "window[\"f2cd69ae-ae7a-11ed-b21c-0242ac1c000c\"] = google.colab.output.getActiveOutputArea();\n",
              "//# sourceURL=js_bdd56589b2"
            ]
          },
          "metadata": {}
        },
        {
          "output_type": "display_data",
          "data": {
            "text/plain": [
              "<IPython.core.display.Javascript object>"
            ],
            "application/javascript": [
              "window[\"f2cdb026-ae7a-11ed-b21c-0242ac1c000c\"] = document.querySelector(\"#id114-0-0\");\n",
              "//# sourceURL=js_c6d0754e90"
            ]
          },
          "metadata": {}
        },
        {
          "output_type": "display_data",
          "data": {
            "text/plain": [
              "<IPython.core.display.Javascript object>"
            ],
            "application/javascript": [
              "window[\"f2cdfb1c-ae7a-11ed-b21c-0242ac1c000c\"] = google.colab.output.setActiveOutputArea(window[\"f2cdb026-ae7a-11ed-b21c-0242ac1c000c\"]);\n",
              "//# sourceURL=js_0f64a34a50"
            ]
          },
          "metadata": {}
        },
        {
          "output_type": "display_data",
          "data": {
            "text/plain": [
              "<IPython.core.display.Javascript object>"
            ],
            "application/javascript": [
              "window[\"f2e3bfec-ae7a-11ed-b21c-0242ac1c000c\"] = google.colab.output.setActiveOutputArea(window[\"f2cd69ae-ae7a-11ed-b21c-0242ac1c000c\"]);\n",
              "//# sourceURL=js_52f2ae0278"
            ]
          },
          "metadata": {}
        },
        {
          "output_type": "display_data",
          "data": {
            "text/plain": [
              "<IPython.core.display.Javascript object>"
            ],
            "application/javascript": [
              "window[\"f37eb5c4-ae7a-11ed-b21c-0242ac1c000c\"] = google.colab.output.getActiveOutputArea();\n",
              "//# sourceURL=js_5d6f1b216a"
            ]
          },
          "metadata": {}
        },
        {
          "output_type": "display_data",
          "data": {
            "text/plain": [
              "<IPython.core.display.Javascript object>"
            ],
            "application/javascript": [
              "window[\"f37efc32-ae7a-11ed-b21c-0242ac1c000c\"] = document.querySelector(\"#id114-0-0\");\n",
              "//# sourceURL=js_58c97fb945"
            ]
          },
          "metadata": {}
        },
        {
          "output_type": "display_data",
          "data": {
            "text/plain": [
              "<IPython.core.display.Javascript object>"
            ],
            "application/javascript": [
              "window[\"f37f7d56-ae7a-11ed-b21c-0242ac1c000c\"] = google.colab.output.setActiveOutputArea(window[\"f37efc32-ae7a-11ed-b21c-0242ac1c000c\"]);\n",
              "//# sourceURL=js_1bef51601d"
            ]
          },
          "metadata": {}
        },
        {
          "output_type": "display_data",
          "data": {
            "text/plain": [
              "<IPython.core.display.Javascript object>"
            ],
            "application/javascript": [
              "window[\"f3951efe-ae7a-11ed-b21c-0242ac1c000c\"] = google.colab.output.setActiveOutputArea(window[\"f37eb5c4-ae7a-11ed-b21c-0242ac1c000c\"]);\n",
              "//# sourceURL=js_984568fc30"
            ]
          },
          "metadata": {}
        },
        {
          "output_type": "display_data",
          "data": {
            "text/plain": [
              "<IPython.core.display.Javascript object>"
            ],
            "application/javascript": [
              "window[\"f430f2ac-ae7a-11ed-b21c-0242ac1c000c\"] = google.colab.output.getActiveOutputArea();\n",
              "//# sourceURL=js_d2a290544c"
            ]
          },
          "metadata": {}
        },
        {
          "output_type": "display_data",
          "data": {
            "text/plain": [
              "<IPython.core.display.Javascript object>"
            ],
            "application/javascript": [
              "window[\"f4313938-ae7a-11ed-b21c-0242ac1c000c\"] = document.querySelector(\"#id114-0-0\");\n",
              "//# sourceURL=js_e6e5e97470"
            ]
          },
          "metadata": {}
        },
        {
          "output_type": "display_data",
          "data": {
            "text/plain": [
              "<IPython.core.display.Javascript object>"
            ],
            "application/javascript": [
              "window[\"f431eda6-ae7a-11ed-b21c-0242ac1c000c\"] = google.colab.output.setActiveOutputArea(window[\"f4313938-ae7a-11ed-b21c-0242ac1c000c\"]);\n",
              "//# sourceURL=js_b983e28161"
            ]
          },
          "metadata": {}
        },
        {
          "output_type": "display_data",
          "data": {
            "text/plain": [
              "<IPython.core.display.Javascript object>"
            ],
            "application/javascript": [
              "window[\"f446eb16-ae7a-11ed-b21c-0242ac1c000c\"] = google.colab.output.setActiveOutputArea(window[\"f430f2ac-ae7a-11ed-b21c-0242ac1c000c\"]);\n",
              "//# sourceURL=js_2966936e95"
            ]
          },
          "metadata": {}
        },
        {
          "output_type": "display_data",
          "data": {
            "text/plain": [
              "<IPython.core.display.Javascript object>"
            ],
            "application/javascript": [
              "window[\"f4e232d8-ae7a-11ed-b21c-0242ac1c000c\"] = google.colab.output.getActiveOutputArea();\n",
              "//# sourceURL=js_0604187ac6"
            ]
          },
          "metadata": {}
        },
        {
          "output_type": "display_data",
          "data": {
            "text/plain": [
              "<IPython.core.display.Javascript object>"
            ],
            "application/javascript": [
              "window[\"f4e29732-ae7a-11ed-b21c-0242ac1c000c\"] = document.querySelector(\"#id114-0-0\");\n",
              "//# sourceURL=js_7e3dfff128"
            ]
          },
          "metadata": {}
        },
        {
          "output_type": "display_data",
          "data": {
            "text/plain": [
              "<IPython.core.display.Javascript object>"
            ],
            "application/javascript": [
              "window[\"f4e2f57e-ae7a-11ed-b21c-0242ac1c000c\"] = google.colab.output.setActiveOutputArea(window[\"f4e29732-ae7a-11ed-b21c-0242ac1c000c\"]);\n",
              "//# sourceURL=js_47d0b3bfb5"
            ]
          },
          "metadata": {}
        },
        {
          "output_type": "display_data",
          "data": {
            "text/plain": [
              "<IPython.core.display.Javascript object>"
            ],
            "application/javascript": [
              "window[\"f4fa61e6-ae7a-11ed-b21c-0242ac1c000c\"] = google.colab.output.setActiveOutputArea(window[\"f4e232d8-ae7a-11ed-b21c-0242ac1c000c\"]);\n",
              "//# sourceURL=js_c574eeb36c"
            ]
          },
          "metadata": {}
        },
        {
          "output_type": "display_data",
          "data": {
            "text/plain": [
              "<IPython.core.display.Javascript object>"
            ],
            "application/javascript": [
              "window[\"f596a344-ae7a-11ed-b21c-0242ac1c000c\"] = google.colab.output.getActiveOutputArea();\n",
              "//# sourceURL=js_3a5b1c52ac"
            ]
          },
          "metadata": {}
        },
        {
          "output_type": "display_data",
          "data": {
            "text/plain": [
              "<IPython.core.display.Javascript object>"
            ],
            "application/javascript": [
              "window[\"f59702da-ae7a-11ed-b21c-0242ac1c000c\"] = document.querySelector(\"#id114-0-0\");\n",
              "//# sourceURL=js_6565e36c98"
            ]
          },
          "metadata": {}
        },
        {
          "output_type": "display_data",
          "data": {
            "text/plain": [
              "<IPython.core.display.Javascript object>"
            ],
            "application/javascript": [
              "window[\"f5974678-ae7a-11ed-b21c-0242ac1c000c\"] = google.colab.output.setActiveOutputArea(window[\"f59702da-ae7a-11ed-b21c-0242ac1c000c\"]);\n",
              "//# sourceURL=js_e5c559127b"
            ]
          },
          "metadata": {}
        },
        {
          "output_type": "display_data",
          "data": {
            "text/plain": [
              "<IPython.core.display.Javascript object>"
            ],
            "application/javascript": [
              "window[\"f5ae447c-ae7a-11ed-b21c-0242ac1c000c\"] = google.colab.output.setActiveOutputArea(window[\"f596a344-ae7a-11ed-b21c-0242ac1c000c\"]);\n",
              "//# sourceURL=js_066c7e26f9"
            ]
          },
          "metadata": {}
        },
        {
          "output_type": "display_data",
          "data": {
            "text/plain": [
              "<IPython.core.display.Javascript object>"
            ],
            "application/javascript": [
              "window[\"f64ac658-ae7a-11ed-b21c-0242ac1c000c\"] = google.colab.output.getActiveOutputArea();\n",
              "//# sourceURL=js_c1c3d9d43b"
            ]
          },
          "metadata": {}
        },
        {
          "output_type": "display_data",
          "data": {
            "text/plain": [
              "<IPython.core.display.Javascript object>"
            ],
            "application/javascript": [
              "window[\"f64b37f0-ae7a-11ed-b21c-0242ac1c000c\"] = document.querySelector(\"#id114-0-0\");\n",
              "//# sourceURL=js_688a2c9cae"
            ]
          },
          "metadata": {}
        },
        {
          "output_type": "display_data",
          "data": {
            "text/plain": [
              "<IPython.core.display.Javascript object>"
            ],
            "application/javascript": [
              "window[\"f64b9a7e-ae7a-11ed-b21c-0242ac1c000c\"] = google.colab.output.setActiveOutputArea(window[\"f64b37f0-ae7a-11ed-b21c-0242ac1c000c\"]);\n",
              "//# sourceURL=js_65c173bfa3"
            ]
          },
          "metadata": {}
        },
        {
          "output_type": "display_data",
          "data": {
            "text/plain": [
              "<IPython.core.display.Javascript object>"
            ],
            "application/javascript": [
              "window[\"f66201ba-ae7a-11ed-b21c-0242ac1c000c\"] = google.colab.output.setActiveOutputArea(window[\"f64ac658-ae7a-11ed-b21c-0242ac1c000c\"]);\n",
              "//# sourceURL=js_f724174da6"
            ]
          },
          "metadata": {}
        },
        {
          "output_type": "display_data",
          "data": {
            "text/plain": [
              "<IPython.core.display.Javascript object>"
            ],
            "application/javascript": [
              "window[\"f6fcd0be-ae7a-11ed-b21c-0242ac1c000c\"] = google.colab.output.getActiveOutputArea();\n",
              "//# sourceURL=js_b0832ab8f4"
            ]
          },
          "metadata": {}
        },
        {
          "output_type": "display_data",
          "data": {
            "text/plain": [
              "<IPython.core.display.Javascript object>"
            ],
            "application/javascript": [
              "window[\"f6fd16c8-ae7a-11ed-b21c-0242ac1c000c\"] = document.querySelector(\"#id114-0-0\");\n",
              "//# sourceURL=js_557c4e8f07"
            ]
          },
          "metadata": {}
        },
        {
          "output_type": "display_data",
          "data": {
            "text/plain": [
              "<IPython.core.display.Javascript object>"
            ],
            "application/javascript": [
              "window[\"f6fd7910-ae7a-11ed-b21c-0242ac1c000c\"] = google.colab.output.setActiveOutputArea(window[\"f6fd16c8-ae7a-11ed-b21c-0242ac1c000c\"]);\n",
              "//# sourceURL=js_270b01863d"
            ]
          },
          "metadata": {}
        },
        {
          "output_type": "display_data",
          "data": {
            "text/plain": [
              "<IPython.core.display.Javascript object>"
            ],
            "application/javascript": [
              "window[\"f71300e6-ae7a-11ed-b21c-0242ac1c000c\"] = google.colab.output.setActiveOutputArea(window[\"f6fcd0be-ae7a-11ed-b21c-0242ac1c000c\"]);\n",
              "//# sourceURL=js_a3d0b5d39c"
            ]
          },
          "metadata": {}
        },
        {
          "output_type": "display_data",
          "data": {
            "text/plain": [
              "<IPython.core.display.Javascript object>"
            ],
            "application/javascript": [
              "window[\"f7adc41e-ae7a-11ed-b21c-0242ac1c000c\"] = google.colab.output.getActiveOutputArea();\n",
              "//# sourceURL=js_a4b983e459"
            ]
          },
          "metadata": {}
        },
        {
          "output_type": "display_data",
          "data": {
            "text/plain": [
              "<IPython.core.display.Javascript object>"
            ],
            "application/javascript": [
              "window[\"f7ae0c4e-ae7a-11ed-b21c-0242ac1c000c\"] = document.querySelector(\"#id114-0-0\");\n",
              "//# sourceURL=js_527f145f45"
            ]
          },
          "metadata": {}
        },
        {
          "output_type": "display_data",
          "data": {
            "text/plain": [
              "<IPython.core.display.Javascript object>"
            ],
            "application/javascript": [
              "window[\"f7ae5b5e-ae7a-11ed-b21c-0242ac1c000c\"] = google.colab.output.setActiveOutputArea(window[\"f7ae0c4e-ae7a-11ed-b21c-0242ac1c000c\"]);\n",
              "//# sourceURL=js_02aefe919f"
            ]
          },
          "metadata": {}
        },
        {
          "output_type": "display_data",
          "data": {
            "text/plain": [
              "<Figure size 432x288 with 1 Axes>"
            ],
            "image/png": "[encoded data removed]"
          },
          "metadata": {
            "needs_background": "light"
          }
        },
        {
          "output_type": "display_data",
          "data": {
            "text/plain": [
              "<IPython.core.display.Javascript object>"
            ],
            "application/javascript": [
              "window[\"f7c3bfda-ae7a-11ed-b21c-0242ac1c000c\"] = google.colab.output.setActiveOutputArea(window[\"f7adc41e-ae7a-11ed-b21c-0242ac1c000c\"]);\n",
              "//# sourceURL=js_4bf2d342a2"
            ]
          },
          "metadata": {}
        }
      ]
    }
  ]
}