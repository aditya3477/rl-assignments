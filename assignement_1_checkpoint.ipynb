{
  "nbformat": 4,
  "nbformat_minor": 0,
  "metadata": {
    "colab": {
      "provenance": [],
      "authorship_tag": "ABX9TyMYoPWKelveC1KhzkqrE2mB",
      "include_colab_link": true
    },
    "kernelspec": {
      "name": "python3",
      "display_name": "Python 3"
    },
    "language_info": {
      "name": "python"
    }
  },
  "cells": [
    {
      "cell_type": "markdown",
      "metadata": {
        "id": "view-in-github",
        "colab_type": "text"
      },
      "source": [
        "<a href=\"https://colab.research.google.com/github/aditya3477/rl-assignments/blob/main/assignement_1_checkpoint.ipynb\" target=\"_parent\"><img src=\"https://colab.research.google.com/assets/colab-badge.svg\" alt=\"Open In Colab\"/></a>"
      ]
    },
    {
      "cell_type": "code",
      "execution_count": 1,
      "metadata": {
        "colab": {
          "base_uri": "https://localhost:8080/"
        },
        "id": "n60Vi-rNxozV",
        "outputId": "311f80d1-9b0c-46c7-fbeb-26f99b7f0af1"
      },
      "outputs": [
        {
          "output_type": "stream",
          "name": "stdout",
          "text": [
            "Looking in indexes: https://pypi.org/simple, https://us-python.pkg.dev/colab-wheels/public/simple/\n",
            "Collecting gymnasium\n",
            "  Downloading gymnasium-0.27.1-py3-none-any.whl (883 kB)\n",
            "\u001b[2K     \u001b[90m━━━━━━━━━━━━━━━━━━━━━━━━━━━━━━━━━━━━━━\u001b[0m \u001b[32m883.7/883.7 KB\u001b[0m \u001b[31m13.6 MB/s\u001b[0m eta \u001b[36m0:00:00\u001b[0m\n",
            "\u001b[?25hRequirement already satisfied: matplotlib in /usr/local/lib/python3.8/dist-packages (3.2.2)\n",
            "Requirement already satisfied: numpy in /usr/local/lib/python3.8/dist-packages (1.21.6)\n",
            "Collecting gymnasium-notices>=0.0.1\n",
            "  Downloading gymnasium_notices-0.0.1-py3-none-any.whl (2.8 kB)\n",
            "Requirement already satisfied: cloudpickle>=1.2.0 in /usr/local/lib/python3.8/dist-packages (from gymnasium) (2.2.1)\n",
            "Collecting jax-jumpy>=0.2.0\n",
            "  Downloading jax_jumpy-0.2.0-py3-none-any.whl (11 kB)\n",
            "Requirement already satisfied: typing-extensions>=4.3.0 in /usr/local/lib/python3.8/dist-packages (from gymnasium) (4.4.0)\n",
            "Requirement already satisfied: importlib-metadata>=4.8.0 in /usr/local/lib/python3.8/dist-packages (from gymnasium) (6.0.0)\n",
            "Requirement already satisfied: kiwisolver>=1.0.1 in /usr/local/lib/python3.8/dist-packages (from matplotlib) (1.4.4)\n",
            "Requirement already satisfied: pyparsing!=2.0.4,!=2.1.2,!=2.1.6,>=2.0.1 in /usr/local/lib/python3.8/dist-packages (from matplotlib) (3.0.9)\n",
            "Requirement already satisfied: python-dateutil>=2.1 in /usr/local/lib/python3.8/dist-packages (from matplotlib) (2.8.2)\n",
            "Requirement already satisfied: cycler>=0.10 in /usr/local/lib/python3.8/dist-packages (from matplotlib) (0.11.0)\n",
            "Requirement already satisfied: zipp>=0.5 in /usr/local/lib/python3.8/dist-packages (from importlib-metadata>=4.8.0->gymnasium) (3.12.1)\n",
            "Requirement already satisfied: six>=1.5 in /usr/local/lib/python3.8/dist-packages (from python-dateutil>=2.1->matplotlib) (1.15.0)\n",
            "Installing collected packages: gymnasium-notices, jax-jumpy, gymnasium\n",
            "Successfully installed gymnasium-0.27.1 gymnasium-notices-0.0.1 jax-jumpy-0.2.0\n"
          ]
        }
      ],
      "source": [
        "!pip install gymnasium matplotlib numpy"
      ]
    },
    {
      "cell_type": "code",
      "source": [
        "from google.colab import widgets\n",
        "import gymnasium as gym\n",
        "from gymnasium import spaces\n",
        "import matplotlib.pyplot as plt\n",
        "import numpy as np\n",
        "import time"
      ],
      "metadata": {
        "id": "iSQEqkIFxuR-"
      },
      "execution_count": 8,
      "outputs": []
    },
    {
      "cell_type": "code",
      "source": [
        "output_grid = widgets.Grid(1, 1)\n",
        "for _ in range(5):\n",
        "  grid = np.zeros((3, 3))\n",
        "  grid[np.random.randint(3), np.random.randint(3)] = 1\n",
        "\n",
        "  with output_grid.output_to(0, 0):\n",
        "    output_grid.clear_cell()\n",
        "    plt.imshow(grid)\n",
        "  time.sleep(1)"
      ],
      "metadata": {
        "colab": {
          "base_uri": "https://localhost:8080/",
          "height": 272
        },
        "id": "SJOMSWTJxyk4",
        "outputId": "79468006-dd38-4ede-d3db-e5b1e169f3d5"
      },
      "execution_count": 3,
      "outputs": [
        {
          "output_type": "display_data",
          "data": {
            "text/plain": [
              "<IPython.core.display.HTML object>"
            ],
            "text/html": [
              "<style>\n",
              "       table#id2, #id2 > tbody > tr > th, #id2 > tbody > tr > td {\n",
              "         border: 1px solid lightgray;\n",
              "         border-collapse:collapse;\n",
              "         \n",
              "        }</style>"
            ]
          },
          "metadata": {}
        },
        {
          "output_type": "display_data",
          "data": {
            "text/plain": [
              "<IPython.core.display.HTML object>"
            ],
            "text/html": [
              "<table id=id2><tr><td id=id2-0-0></td></tr></table>"
            ]
          },
          "metadata": {}
        },
        {
          "output_type": "display_data",
          "data": {
            "text/plain": [
              "<IPython.core.display.Javascript object>"
            ],
            "application/javascript": [
              "window[\"28ca2170-ae33-11ed-834b-0242ac1c000c\"] = google.colab.output.getActiveOutputArea();\n",
              "//# sourceURL=js_c72f2bfe7f"
            ]
          },
          "metadata": {}
        },
        {
          "output_type": "display_data",
          "data": {
            "text/plain": [
              "<IPython.core.display.Javascript object>"
            ],
            "application/javascript": [
              "window[\"28caa51e-ae33-11ed-834b-0242ac1c000c\"] = document.querySelector(\"#id2-0-0\");\n",
              "//# sourceURL=js_79634d73fd"
            ]
          },
          "metadata": {}
        },
        {
          "output_type": "display_data",
          "data": {
            "text/plain": [
              "<IPython.core.display.Javascript object>"
            ],
            "application/javascript": [
              "window[\"28cb199a-ae33-11ed-834b-0242ac1c000c\"] = google.colab.output.setActiveOutputArea(window[\"28caa51e-ae33-11ed-834b-0242ac1c000c\"]);\n",
              "//# sourceURL=js_3d1b6074b4"
            ]
          },
          "metadata": {}
        },
        {
          "output_type": "display_data",
          "data": {
            "text/plain": [
              "<IPython.core.display.Javascript object>"
            ],
            "application/javascript": [
              "window[\"28fa1bb4-ae33-11ed-834b-0242ac1c000c\"] = google.colab.output.setActiveOutputArea(window[\"28ca2170-ae33-11ed-834b-0242ac1c000c\"]);\n",
              "//# sourceURL=js_3e3a32112b"
            ]
          },
          "metadata": {}
        },
        {
          "output_type": "display_data",
          "data": {
            "text/plain": [
              "<IPython.core.display.Javascript object>"
            ],
            "application/javascript": [
              "window[\"2995a674-ae33-11ed-834b-0242ac1c000c\"] = google.colab.output.getActiveOutputArea();\n",
              "//# sourceURL=js_f1ccd80ac1"
            ]
          },
          "metadata": {}
        },
        {
          "output_type": "display_data",
          "data": {
            "text/plain": [
              "<IPython.core.display.Javascript object>"
            ],
            "application/javascript": [
              "window[\"29962612-ae33-11ed-834b-0242ac1c000c\"] = document.querySelector(\"#id2-0-0\");\n",
              "//# sourceURL=js_364fb60402"
            ]
          },
          "metadata": {}
        },
        {
          "output_type": "display_data",
          "data": {
            "text/plain": [
              "<IPython.core.display.Javascript object>"
            ],
            "application/javascript": [
              "window[\"29966de8-ae33-11ed-834b-0242ac1c000c\"] = google.colab.output.setActiveOutputArea(window[\"29962612-ae33-11ed-834b-0242ac1c000c\"]);\n",
              "//# sourceURL=js_484dc12235"
            ]
          },
          "metadata": {}
        },
        {
          "output_type": "display_data",
          "data": {
            "text/plain": [
              "<IPython.core.display.Javascript object>"
            ],
            "application/javascript": [
              "window[\"29d4a37e-ae33-11ed-834b-0242ac1c000c\"] = google.colab.output.setActiveOutputArea(window[\"2995a674-ae33-11ed-834b-0242ac1c000c\"]);\n",
              "//# sourceURL=js_7f3780696b"
            ]
          },
          "metadata": {}
        },
        {
          "output_type": "display_data",
          "data": {
            "text/plain": [
              "<IPython.core.display.Javascript object>"
            ],
            "application/javascript": [
              "window[\"2a712e24-ae33-11ed-834b-0242ac1c000c\"] = google.colab.output.getActiveOutputArea();\n",
              "//# sourceURL=js_5c60250b8e"
            ]
          },
          "metadata": {}
        },
        {
          "output_type": "display_data",
          "data": {
            "text/plain": [
              "<IPython.core.display.Javascript object>"
            ],
            "application/javascript": [
              "window[\"2a71797e-ae33-11ed-834b-0242ac1c000c\"] = document.querySelector(\"#id2-0-0\");\n",
              "//# sourceURL=js_89c60d1447"
            ]
          },
          "metadata": {}
        },
        {
          "output_type": "display_data",
          "data": {
            "text/plain": [
              "<IPython.core.display.Javascript object>"
            ],
            "application/javascript": [
              "window[\"2a734fba-ae33-11ed-834b-0242ac1c000c\"] = google.colab.output.setActiveOutputArea(window[\"2a71797e-ae33-11ed-834b-0242ac1c000c\"]);\n",
              "//# sourceURL=js_8338a674fc"
            ]
          },
          "metadata": {}
        },
        {
          "output_type": "display_data",
          "data": {
            "text/plain": [
              "<IPython.core.display.Javascript object>"
            ],
            "application/javascript": [
              "window[\"2ab1ffda-ae33-11ed-834b-0242ac1c000c\"] = google.colab.output.setActiveOutputArea(window[\"2a712e24-ae33-11ed-834b-0242ac1c000c\"]);\n",
              "//# sourceURL=js_e90ff465dc"
            ]
          },
          "metadata": {}
        },
        {
          "output_type": "display_data",
          "data": {
            "text/plain": [
              "<IPython.core.display.Javascript object>"
            ],
            "application/javascript": [
              "window[\"2b4d1fce-ae33-11ed-834b-0242ac1c000c\"] = google.colab.output.getActiveOutputArea();\n",
              "//# sourceURL=js_463e33aa46"
            ]
          },
          "metadata": {}
        },
        {
          "output_type": "display_data",
          "data": {
            "text/plain": [
              "<IPython.core.display.Javascript object>"
            ],
            "application/javascript": [
              "window[\"2b4dc23a-ae33-11ed-834b-0242ac1c000c\"] = document.querySelector(\"#id2-0-0\");\n",
              "//# sourceURL=js_97667eaf39"
            ]
          },
          "metadata": {}
        },
        {
          "output_type": "display_data",
          "data": {
            "text/plain": [
              "<IPython.core.display.Javascript object>"
            ],
            "application/javascript": [
              "window[\"2b4e0bbe-ae33-11ed-834b-0242ac1c000c\"] = google.colab.output.setActiveOutputArea(window[\"2b4dc23a-ae33-11ed-834b-0242ac1c000c\"]);\n",
              "//# sourceURL=js_c144ac1727"
            ]
          },
          "metadata": {}
        },
        {
          "output_type": "display_data",
          "data": {
            "text/plain": [
              "<IPython.core.display.Javascript object>"
            ],
            "application/javascript": [
              "window[\"2b6fdac8-ae33-11ed-834b-0242ac1c000c\"] = google.colab.output.setActiveOutputArea(window[\"2b4d1fce-ae33-11ed-834b-0242ac1c000c\"]);\n",
              "//# sourceURL=js_044edc802b"
            ]
          },
          "metadata": {}
        },
        {
          "output_type": "display_data",
          "data": {
            "text/plain": [
              "<IPython.core.display.Javascript object>"
            ],
            "application/javascript": [
              "window[\"2c0bcd2a-ae33-11ed-834b-0242ac1c000c\"] = google.colab.output.getActiveOutputArea();\n",
              "//# sourceURL=js_45aa86edde"
            ]
          },
          "metadata": {}
        },
        {
          "output_type": "display_data",
          "data": {
            "text/plain": [
              "<IPython.core.display.Javascript object>"
            ],
            "application/javascript": [
              "window[\"2c0c04de-ae33-11ed-834b-0242ac1c000c\"] = document.querySelector(\"#id2-0-0\");\n",
              "//# sourceURL=js_bb6f172b4f"
            ]
          },
          "metadata": {}
        },
        {
          "output_type": "display_data",
          "data": {
            "text/plain": [
              "<IPython.core.display.Javascript object>"
            ],
            "application/javascript": [
              "window[\"2c0c697e-ae33-11ed-834b-0242ac1c000c\"] = google.colab.output.setActiveOutputArea(window[\"2c0c04de-ae33-11ed-834b-0242ac1c000c\"]);\n",
              "//# sourceURL=js_8773cbef27"
            ]
          },
          "metadata": {}
        },
        {
          "output_type": "display_data",
          "data": {
            "text/plain": [
              "<Figure size 432x288 with 1 Axes>"
            ],
            "image/png": "[encoded data removed]"
          },
          "metadata": {
            "needs_background": "light"
          }
        },
        {
          "output_type": "display_data",
          "data": {
            "text/plain": [
              "<IPython.core.display.Javascript object>"
            ],
            "application/javascript": [
              "window[\"2c2b15a4-ae33-11ed-834b-0242ac1c000c\"] = google.colab.output.setActiveOutputArea(window[\"2c0bcd2a-ae33-11ed-834b-0242ac1c000c\"]);\n",
              "//# sourceURL=js_f76f0bc805"
            ]
          },
          "metadata": {}
        }
      ]
    },
    {
      "cell_type": "code",
      "source": [
        "class GridEnvironment(gym.Env):\n",
        "    metadata = { 'render.modes': [] }\n",
        "    \n",
        "    def __init__(self):\n",
        "\n",
        "        self.observation_space = spaces.Discrete(9)\n",
        "        self.action_space = spaces.Discrete(4)\n",
        "        self.max_timesteps = 5\n",
        "\n",
        "        self.timestep = 0\n",
        "        self.agent_pos = [0, 0]\n",
        "        self.goal_pos = [2, 2]\n",
        "        self.state = np.zeros((3,3))\n",
        "        self.state[tuple(self.agent_pos)] = 1\n",
        "        self.state[tuple(self.goal_pos)] = 0.5\n",
        "\n",
        "        \n",
        "    def reset(self, **kwargs):\n",
        "\n",
        "        self.state = np.zeros((3,3))\n",
        "        self.state[tuple(self.agent_pos)] = 1\n",
        "        self.state[tuple(self.goal_pos)] = 0.5\n",
        "        observation = self.state.flatten()\n",
        "\n",
        "        info = {}\n",
        "\n",
        "        return observation, info\n",
        "    \n",
        "    def step(self, action):\n",
        "\n",
        "        if action == 0:\n",
        "          self.agent_pos[0] += 1\n",
        "        if action == 1:\n",
        "          self.agent_pos[0] -= 1\n",
        "        if action == 2:\n",
        "          self.agent_pos[1] += 1\n",
        "        if action == 3:\n",
        "          self.agent_pos[1] -= 1\n",
        "\n",
        "        # Comment this to demonstrate the truncation condition.\n",
        "        self.agent_pos = np.clip(self.agent_pos, 0, 2)\n",
        "\n",
        "        self.state = np.zeros((3,3))\n",
        "        self.state[tuple(self.agent_pos)] = 1\n",
        "        self.state[tuple(self.goal_pos)] = 0.5\n",
        "        observation = self.state.flatten()\n",
        "        \n",
        "        reward = 0\n",
        "        if np.array_equal(self.agent_pos, self.goal_pos):\n",
        "          reward = 1\n",
        "        \n",
        "        self.timestep += 1\n",
        "\n",
        "        terminated = True if self.timestep >= self.max_timesteps else False\n",
        "        truncated = True if np.all((self.agent_pos >=0 ) & (self.agent_pos <= 2)) else False\n",
        "\n",
        "        info = {}\n",
        "        \n",
        "        return observation, reward, terminated, truncated, info\n",
        "        \n",
        "    def render(self):\n",
        "        plt.imshow(self.state)"
      ],
      "metadata": {
        "id": "pNv_mjNex3Iq"
      },
      "execution_count": 4,
      "outputs": []
    },
    {
      "cell_type": "code",
      "source": [
        "class RandomAgent:\n",
        "  def __init__(self, env):\n",
        "    self.env = env\n",
        "    self.observation_space = env.observation_space\n",
        "    self.action_space = env.action_space\n",
        "\n",
        "  def step(self, obs):\n",
        "    return np.random.choice(self.action_space.n)"
      ],
      "metadata": {
        "id": "GuX8i3Czx7p-"
      },
      "execution_count": 5,
      "outputs": []
    },
    {
      "cell_type": "code",
      "source": [
        "env = GridEnvironment()\n",
        "agent = RandomAgent(env)\n",
        "\n",
        "obs, info = env.reset()\n",
        "terminated, truncated = False, False\n",
        "\n",
        "output_grid = widgets.Grid(1, 1)\n",
        "with output_grid.output_to(0, 0):\n",
        "  env.render()\n",
        "\n",
        "while not terminated:\n",
        "  action = agent.step(obs)\n",
        "  obs, reward, terminated, truncated, info = env.step(action)\n",
        "  with output_grid.output_to(0, 0):\n",
        "    output_grid.clear_cell()\n",
        "    env.render()\n",
        "  time.sleep(1)"
      ],
      "metadata": {
        "colab": {
          "base_uri": "https://localhost:8080/",
          "height": 272
        },
        "id": "8lP3PKyLx_Hq",
        "outputId": "bc9e2153-ea1f-4deb-d37f-783cf6e71fe5"
      },
      "execution_count": 6,
      "outputs": [
        {
          "output_type": "display_data",
          "data": {
            "text/plain": [
              "<IPython.core.display.HTML object>"
            ],
            "text/html": [
              "<style>\n",
              "       table#id4, #id4 > tbody > tr > th, #id4 > tbody > tr > td {\n",
              "         border: 1px solid lightgray;\n",
              "         border-collapse:collapse;\n",
              "         \n",
              "        }</style>"
            ]
          },
          "metadata": {}
        },
        {
          "output_type": "display_data",
          "data": {
            "text/plain": [
              "<IPython.core.display.HTML object>"
            ],
            "text/html": [
              "<table id=id4><tr><td id=id4-0-0></td></tr></table>"
            ]
          },
          "metadata": {}
        },
        {
          "output_type": "display_data",
          "data": {
            "text/plain": [
              "<IPython.core.display.Javascript object>"
            ],
            "application/javascript": [
              "window[\"a86a2d80-ae33-11ed-834b-0242ac1c000c\"] = google.colab.output.getActiveOutputArea();\n",
              "//# sourceURL=js_5e8822af69"
            ]
          },
          "metadata": {}
        },
        {
          "output_type": "display_data",
          "data": {
            "text/plain": [
              "<IPython.core.display.Javascript object>"
            ],
            "application/javascript": [
              "window[\"a86a6b42-ae33-11ed-834b-0242ac1c000c\"] = document.querySelector(\"#id4-0-0\");\n",
              "//# sourceURL=js_e3b220ddc9"
            ]
          },
          "metadata": {}
        },
        {
          "output_type": "display_data",
          "data": {
            "text/plain": [
              "<IPython.core.display.Javascript object>"
            ],
            "application/javascript": [
              "window[\"a86ae252-ae33-11ed-834b-0242ac1c000c\"] = google.colab.output.setActiveOutputArea(window[\"a86a6b42-ae33-11ed-834b-0242ac1c000c\"]);\n",
              "//# sourceURL=js_129a6e99b5"
            ]
          },
          "metadata": {}
        },
        {
          "output_type": "display_data",
          "data": {
            "text/plain": [
              "<IPython.core.display.Javascript object>"
            ],
            "application/javascript": [
              "window[\"a87d1ac6-ae33-11ed-834b-0242ac1c000c\"] = google.colab.output.setActiveOutputArea(window[\"a86a2d80-ae33-11ed-834b-0242ac1c000c\"]);\n",
              "//# sourceURL=js_fdbf1098a4"
            ]
          },
          "metadata": {}
        },
        {
          "output_type": "display_data",
          "data": {
            "text/plain": [
              "<IPython.core.display.Javascript object>"
            ],
            "application/javascript": [
              "window[\"a87f587c-ae33-11ed-834b-0242ac1c000c\"] = google.colab.output.getActiveOutputArea();\n",
              "//# sourceURL=js_b39b686975"
            ]
          },
          "metadata": {}
        },
        {
          "output_type": "display_data",
          "data": {
            "text/plain": [
              "<IPython.core.display.Javascript object>"
            ],
            "application/javascript": [
              "window[\"a87f98c8-ae33-11ed-834b-0242ac1c000c\"] = document.querySelector(\"#id4-0-0\");\n",
              "//# sourceURL=js_ffede4bebf"
            ]
          },
          "metadata": {}
        },
        {
          "output_type": "display_data",
          "data": {
            "text/plain": [
              "<IPython.core.display.Javascript object>"
            ],
            "application/javascript": [
              "window[\"a87fd248-ae33-11ed-834b-0242ac1c000c\"] = google.colab.output.setActiveOutputArea(window[\"a87f98c8-ae33-11ed-834b-0242ac1c000c\"]);\n",
              "//# sourceURL=js_8aa039049a"
            ]
          },
          "metadata": {}
        },
        {
          "output_type": "display_data",
          "data": {
            "text/plain": [
              "<IPython.core.display.Javascript object>"
            ],
            "application/javascript": [
              "window[\"a893dac2-ae33-11ed-834b-0242ac1c000c\"] = google.colab.output.setActiveOutputArea(window[\"a87f587c-ae33-11ed-834b-0242ac1c000c\"]);\n",
              "//# sourceURL=js_262ed56892"
            ]
          },
          "metadata": {}
        },
        {
          "output_type": "display_data",
          "data": {
            "text/plain": [
              "<IPython.core.display.Javascript object>"
            ],
            "application/javascript": [
              "window[\"a92e7e6a-ae33-11ed-834b-0242ac1c000c\"] = google.colab.output.getActiveOutputArea();\n",
              "//# sourceURL=js_06b29c746d"
            ]
          },
          "metadata": {}
        },
        {
          "output_type": "display_data",
          "data": {
            "text/plain": [
              "<IPython.core.display.Javascript object>"
            ],
            "application/javascript": [
              "window[\"a92eb0e2-ae33-11ed-834b-0242ac1c000c\"] = document.querySelector(\"#id4-0-0\");\n",
              "//# sourceURL=js_42ed30387a"
            ]
          },
          "metadata": {}
        },
        {
          "output_type": "display_data",
          "data": {
            "text/plain": [
              "<IPython.core.display.Javascript object>"
            ],
            "application/javascript": [
              "window[\"a92ee328-ae33-11ed-834b-0242ac1c000c\"] = google.colab.output.setActiveOutputArea(window[\"a92eb0e2-ae33-11ed-834b-0242ac1c000c\"]);\n",
              "//# sourceURL=js_31a0565cab"
            ]
          },
          "metadata": {}
        },
        {
          "output_type": "display_data",
          "data": {
            "text/plain": [
              "<IPython.core.display.Javascript object>"
            ],
            "application/javascript": [
              "window[\"a945dbaa-ae33-11ed-834b-0242ac1c000c\"] = google.colab.output.setActiveOutputArea(window[\"a92e7e6a-ae33-11ed-834b-0242ac1c000c\"]);\n",
              "//# sourceURL=js_eb8b4134e8"
            ]
          },
          "metadata": {}
        },
        {
          "output_type": "display_data",
          "data": {
            "text/plain": [
              "<IPython.core.display.Javascript object>"
            ],
            "application/javascript": [
              "window[\"a9e09758-ae33-11ed-834b-0242ac1c000c\"] = google.colab.output.getActiveOutputArea();\n",
              "//# sourceURL=js_163fce9fbe"
            ]
          },
          "metadata": {}
        },
        {
          "output_type": "display_data",
          "data": {
            "text/plain": [
              "<IPython.core.display.Javascript object>"
            ],
            "application/javascript": [
              "window[\"a9e101ac-ae33-11ed-834b-0242ac1c000c\"] = document.querySelector(\"#id4-0-0\");\n",
              "//# sourceURL=js_8849a2977c"
            ]
          },
          "metadata": {}
        },
        {
          "output_type": "display_data",
          "data": {
            "text/plain": [
              "<IPython.core.display.Javascript object>"
            ],
            "application/javascript": [
              "window[\"a9e163c2-ae33-11ed-834b-0242ac1c000c\"] = google.colab.output.setActiveOutputArea(window[\"a9e101ac-ae33-11ed-834b-0242ac1c000c\"]);\n",
              "//# sourceURL=js_f7436b2c26"
            ]
          },
          "metadata": {}
        },
        {
          "output_type": "display_data",
          "data": {
            "text/plain": [
              "<IPython.core.display.Javascript object>"
            ],
            "application/javascript": [
              "window[\"a9f7fad8-ae33-11ed-834b-0242ac1c000c\"] = google.colab.output.setActiveOutputArea(window[\"a9e09758-ae33-11ed-834b-0242ac1c000c\"]);\n",
              "//# sourceURL=js_eaa16efee4"
            ]
          },
          "metadata": {}
        },
        {
          "output_type": "display_data",
          "data": {
            "text/plain": [
              "<IPython.core.display.Javascript object>"
            ],
            "application/javascript": [
              "window[\"aa929cf0-ae33-11ed-834b-0242ac1c000c\"] = google.colab.output.getActiveOutputArea();\n",
              "//# sourceURL=js_67d2b37803"
            ]
          },
          "metadata": {}
        },
        {
          "output_type": "display_data",
          "data": {
            "text/plain": [
              "<IPython.core.display.Javascript object>"
            ],
            "application/javascript": [
              "window[\"aa932602-ae33-11ed-834b-0242ac1c000c\"] = document.querySelector(\"#id4-0-0\");\n",
              "//# sourceURL=js_0db0541948"
            ]
          },
          "metadata": {}
        },
        {
          "output_type": "display_data",
          "data": {
            "text/plain": [
              "<IPython.core.display.Javascript object>"
            ],
            "application/javascript": [
              "window[\"aa937ea4-ae33-11ed-834b-0242ac1c000c\"] = google.colab.output.setActiveOutputArea(window[\"aa932602-ae33-11ed-834b-0242ac1c000c\"]);\n",
              "//# sourceURL=js_ed576030fd"
            ]
          },
          "metadata": {}
        },
        {
          "output_type": "display_data",
          "data": {
            "text/plain": [
              "<IPython.core.display.Javascript object>"
            ],
            "application/javascript": [
              "window[\"aaa56b8c-ae33-11ed-834b-0242ac1c000c\"] = google.colab.output.setActiveOutputArea(window[\"aa929cf0-ae33-11ed-834b-0242ac1c000c\"]);\n",
              "//# sourceURL=js_df0b09863b"
            ]
          },
          "metadata": {}
        },
        {
          "output_type": "display_data",
          "data": {
            "text/plain": [
              "<IPython.core.display.Javascript object>"
            ],
            "application/javascript": [
              "window[\"ab40776c-ae33-11ed-834b-0242ac1c000c\"] = google.colab.output.getActiveOutputArea();\n",
              "//# sourceURL=js_b3e20e4b8f"
            ]
          },
          "metadata": {}
        },
        {
          "output_type": "display_data",
          "data": {
            "text/plain": [
              "<IPython.core.display.Javascript object>"
            ],
            "application/javascript": [
              "window[\"ab40e08a-ae33-11ed-834b-0242ac1c000c\"] = document.querySelector(\"#id4-0-0\");\n",
              "//# sourceURL=js_262a16fd02"
            ]
          },
          "metadata": {}
        },
        {
          "output_type": "display_data",
          "data": {
            "text/plain": [
              "<IPython.core.display.Javascript object>"
            ],
            "application/javascript": [
              "window[\"ab416352-ae33-11ed-834b-0242ac1c000c\"] = google.colab.output.setActiveOutputArea(window[\"ab40e08a-ae33-11ed-834b-0242ac1c000c\"]);\n",
              "//# sourceURL=js_a83eb1802c"
            ]
          },
          "metadata": {}
        },
        {
          "output_type": "display_data",
          "data": {
            "text/plain": [
              "<Figure size 432x288 with 1 Axes>"
            ],
            "image/png": "[encoded data removed]"
          },
          "metadata": {
            "needs_background": "light"
          }
        },
        {
          "output_type": "display_data",
          "data": {
            "text/plain": [
              "<IPython.core.display.Javascript object>"
            ],
            "application/javascript": [
              "window[\"ab547f78-ae33-11ed-834b-0242ac1c000c\"] = google.colab.output.setActiveOutputArea(window[\"ab40776c-ae33-11ed-834b-0242ac1c000c\"]);\n",
              "//# sourceURL=js_c8d3627871"
            ]
          },
          "metadata": {}
        }
      ]
    },
    {
      "cell_type": "code",
      "source": [
        "# Generating reward values.\n",
        "initial_rewards = np.random.choice([-50, -100, 100], 100, p=[0.7, 0.29, 0.01])\n",
        "intermediate_rewards = np.random.choice([-50, -100, 100], 100, p=[0.6, 0.25, 0.15])\n",
        "final_rewards_1 = np.random.choice([-50, -100, 100], 100, p=[0.3, 0.1, 0.6])\n",
        "final_rewards_2 = np.random.choice([-50, -100, 100], 100, p=[0.05, 0.05, 0.9])\n",
        "final_rewards_3 = np.random.choice([-50, -100, 100], 100, p=[0.00, 0.00, 1])\n",
        "\n",
        "reward_per_episode = np.concatenate((initial_rewards, intermediate_rewards,\n",
        "                                    final_rewards_1, final_rewards_2, final_rewards_3))\n",
        "\n",
        "# Reward Dynamics\n",
        "plt.figure(figsize=(15, 10))\n",
        "plt.plot(reward_per_episode, 'ro')\n",
        "plt.xlabel('Episode', fontsize=28)\n",
        "plt.ylabel('Reward Value', fontsize=28)\n",
        "plt.title('Rewards Per Episode (Training)', fontsize=36)\n",
        "plt.xticks(fontsize=24)\n",
        "plt.yticks([-100, -50, 0, 50, 100], fontsize=24)\n",
        "plt.ylim(ymin=-102, ymax=102)\n",
        "plt.xlim(xmin=0, xmax=500)\n",
        "plt.grid()\n",
        "plt.show()"
      ],
      "metadata": {
        "colab": {
          "base_uri": "https://localhost:8080/",
          "height": 672
        },
        "id": "fu9yQyeuyCNQ",
        "outputId": "e7f264f2-baba-42de-bdc2-fef88e075925"
      },
      "execution_count": 7,
      "outputs": [
        {
          "output_type": "display_data",
          "data": {
            "text/plain": [
              "<Figure size 1080x720 with 1 Axes>"
            ],
            "image/png": "[encoded data removed]"
          },
          "metadata": {
            "needs_background": "light"
          }
        }
      ]
    }
  ]
}