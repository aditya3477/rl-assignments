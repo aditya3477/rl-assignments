{
  "nbformat": 4,
  "nbformat_minor": 0,
  "metadata": {
    "colab": {
      "provenance": [],
      "authorship_tag": "ABX9TyMDfIiTBITd+GzkDe0SgaH8",
      "include_colab_link": true
    },
    "kernelspec": {
      "name": "python3",
      "display_name": "Python 3"
    },
    "language_info": {
      "name": "python"
    }
  },
  "cells": [
    {
      "cell_type": "markdown",
      "metadata": {
        "id": "view-in-github",
        "colab_type": "text"
      },
      "source": [
        "<a href=\"https://colab.research.google.com/github/aditya3477/rl-assignments/blob/main/assignment1_checkpoint1.ipynb\" target=\"_parent\"><img src=\"https://colab.research.google.com/assets/colab-badge.svg\" alt=\"Open In Colab\"/></a>"
      ]
    },
    {
      "cell_type": "code",
      "execution_count": 1,
      "metadata": {
        "colab": {
          "base_uri": "https://localhost:8080/"
        },
        "id": "n60Vi-rNxozV",
        "outputId": "70fb4aaa-7398-49c0-85d4-b47acebbe1c6"
      },
      "outputs": [
        {
          "output_type": "stream",
          "name": "stdout",
          "text": [
            "Looking in indexes: https://pypi.org/simple, https://us-python.pkg.dev/colab-wheels/public/simple/\n",
            "Collecting gymnasium\n",
            "  Downloading gymnasium-0.27.1-py3-none-any.whl (883 kB)\n",
            "\u001b[2K     \u001b[90m━━━━━━━━━━━━━━━━━━━━━━━━━━━━━━━━━━━━━━\u001b[0m \u001b[32m883.7/883.7 KB\u001b[0m \u001b[31m18.3 MB/s\u001b[0m eta \u001b[36m0:00:00\u001b[0m\n",
            "\u001b[?25hRequirement already satisfied: matplotlib in /usr/local/lib/python3.8/dist-packages (3.2.2)\n",
            "Requirement already satisfied: numpy in /usr/local/lib/python3.8/dist-packages (1.21.6)\n",
            "Collecting gymnasium-notices>=0.0.1\n",
            "  Downloading gymnasium_notices-0.0.1-py3-none-any.whl (2.8 kB)\n",
            "Collecting jax-jumpy>=0.2.0\n",
            "  Downloading jax_jumpy-0.2.0-py3-none-any.whl (11 kB)\n",
            "Requirement already satisfied: importlib-metadata>=4.8.0 in /usr/local/lib/python3.8/dist-packages (from gymnasium) (6.0.0)\n",
            "Requirement already satisfied: typing-extensions>=4.3.0 in /usr/local/lib/python3.8/dist-packages (from gymnasium) (4.4.0)\n",
            "Requirement already satisfied: cloudpickle>=1.2.0 in /usr/local/lib/python3.8/dist-packages (from gymnasium) (2.2.1)\n",
            "Requirement already satisfied: pyparsing!=2.0.4,!=2.1.2,!=2.1.6,>=2.0.1 in /usr/local/lib/python3.8/dist-packages (from matplotlib) (3.0.9)\n",
            "Requirement already satisfied: cycler>=0.10 in /usr/local/lib/python3.8/dist-packages (from matplotlib) (0.11.0)\n",
            "Requirement already satisfied: kiwisolver>=1.0.1 in /usr/local/lib/python3.8/dist-packages (from matplotlib) (1.4.4)\n",
            "Requirement already satisfied: python-dateutil>=2.1 in /usr/local/lib/python3.8/dist-packages (from matplotlib) (2.8.2)\n",
            "Requirement already satisfied: zipp>=0.5 in /usr/local/lib/python3.8/dist-packages (from importlib-metadata>=4.8.0->gymnasium) (3.12.1)\n",
            "Requirement already satisfied: six>=1.5 in /usr/local/lib/python3.8/dist-packages (from python-dateutil>=2.1->matplotlib) (1.15.0)\n",
            "Installing collected packages: gymnasium-notices, jax-jumpy, gymnasium\n",
            "Successfully installed gymnasium-0.27.1 gymnasium-notices-0.0.1 jax-jumpy-0.2.0\n"
          ]
        }
      ],
      "source": [
        "!pip install gymnasium matplotlib numpy"
      ]
    },
    {
      "cell_type": "code",
      "source": [
        "from google.colab import widgets\n",
        "import gymnasium as gym\n",
        "from gymnasium import spaces\n",
        "import matplotlib.pyplot as plt\n",
        "import numpy as np\n",
        "import time\n",
        "import random"
      ],
      "metadata": {
        "id": "iSQEqkIFxuR-"
      },
      "execution_count": 134,
      "outputs": []
    },
    {
      "cell_type": "code",
      "source": [
        "class Environment(gym.Env):\n",
        "    \n",
        "    def __init__(self,env_Type):\n",
        "        #setting up the environment\n",
        "        \n",
        "        self.type = env_Type\n",
        "\n",
        "        self.observation_space = spaces.Discrete(25)\n",
        "        self.action_space = spaces.Discrete(5)\n",
        "        self.max_timesteps = 10\n",
        "        self.timestep = 0\n",
        "        self.agent_pos = [0, 0]\n",
        "        self.goal_pos = [3, 3]\n",
        "        self.gold_coin_pos = [1,3]\n",
        "        self.monster_pos = [2,1]\n",
        "        self.diamond_pos = [3,0]\n",
        "        self.state = np.zeros((4,4))\n",
        "        self.state[tuple(self.agent_pos)] = 1\n",
        "        self.state[tuple(self.goal_pos)] = 5\n",
        "        self.state[tuple(self.monster_pos)] = 3\n",
        "        self.state[tuple(self.gold_coin_pos)] = 2\n",
        "        self.state[tuple(self.diamond_pos)] = 4\n",
        "\n",
        "        \n",
        "    def reset(self, **kwargs):\n",
        "\n",
        "        self.state = np.zeros((4,4))\n",
        "        self.state[tuple(self.agent_pos)] = 1\n",
        "        self.state[tuple(self.goal_pos)] = 5\n",
        "        self.state[tuple(self.monster_pos)] = 3\n",
        "        self.state[tuple(self.gold_coin_pos)] = 2\n",
        "        self.state[tuple(self.diamond_pos)] = 4\n",
        "        observation = self.state.flatten()\n",
        "\n",
        "        info = {}\n",
        "\n",
        "        return observation, info\n",
        "    \n",
        "\n",
        "\n",
        "    def step(self, action):\n",
        "\n",
        "      #actions to be executed by the agent\n",
        "        \n",
        "      if self.type == \"stochastic\":\n",
        "        random_number = random.random()\n",
        "        if random_number < 0.9:\n",
        "            if action == 0:\n",
        "                self.agent_pos[0] += 1\n",
        "            if action == 1:\n",
        "                self.agent_pos[0] -= 1\n",
        "            if action == 2:\n",
        "                self.agent_pos[1] += 1\n",
        "            if action == 3:\n",
        "                self.agent_pos[1] -= 1\n",
        "        \n",
        "      else:\n",
        "            if action == 0:\n",
        "              self.agent_pos[0] += 1\n",
        "            if action == 1:\n",
        "              self.agent_pos[0] -= 1\n",
        "            if action == 2:\n",
        "              self.agent_pos[1] += 1\n",
        "            if action == 3:\n",
        "              self.agent_pos[1] -= 1\n",
        "\n",
        "      self.agent_pos = np.clip(self.agent_pos, 0, 15)\n",
        "\n",
        "      self.state = np.zeros((4,4))\n",
        "      self.state[tuple(self.agent_pos)] = 1\n",
        "      self.state[tuple(self.goal_pos)] = 5\n",
        "      self.state[tuple(self.monster_pos)] = 3\n",
        "      self.state[tuple(self.gold_coin_pos)] = 2\n",
        "      self.state[tuple(self.diamond_pos)] = 4\n",
        "      observation = self.state.flatten()\n",
        "        \n",
        "       #defining different rewards \n",
        "      reward = 0\n",
        "      if np.array_equal(self.agent_pos, self.goal_pos):\n",
        "        reward = 1\n",
        "        print(\"goal reached\")\n",
        "      if np.array_equal(self.agent_pos, self.monster_pos):\n",
        "        reward = -1\n",
        "        print(\"attacked by monster\")\n",
        "      if np.array_equal(self.agent_pos, self.gold_coin_pos):\n",
        "        reward = 0.25\n",
        "        print(\"gold coin collected\")\n",
        "      if np.array_equal(self.agent_pos, self.diamond_pos):\n",
        "        reward = 0.5\n",
        "        print(\"diamond collected\")\n",
        "        \n",
        "      self.timestep += 1\n",
        "\n",
        "      terminated = True if self.timestep >= self.max_timesteps else False\n",
        "\n",
        "      info = {}\n",
        "        \n",
        "      return reward, terminated\n",
        "        \n",
        "    def render(self):\n",
        "        plt.imshow(self.state)"
      ],
      "metadata": {
        "id": "pNv_mjNex3Iq"
      },
      "execution_count": 135,
      "outputs": []
    },
    {
      "cell_type": "code",
      "source": [
        "class RandomAgent:\n",
        "  def __init__(self, env):\n",
        "    self.env = env\n",
        "    self.observation_space = env.observation_space\n",
        "    self.action_space = env.action_space\n",
        "\n",
        "  def step(self, obs):\n",
        "    return np.random.choice(self.action_space.n)"
      ],
      "metadata": {
        "id": "GuX8i3Czx7p-"
      },
      "execution_count": 136,
      "outputs": []
    },
    {
      "cell_type": "code",
      "source": [
        "env_type = \"stochastic\"\n",
        "env = Environment(env_type)\n",
        "agent = RandomAgent(env)\n",
        "\n",
        "obs, info = env.reset()\n",
        "terminated= False\n",
        "\n",
        "output_grid = widgets.Grid(1, 1)\n",
        "with output_grid.output_to(0, 0):\n",
        "  env.render()\n",
        "\n",
        "while not terminated:\n",
        "  action = agent.step(obs)\n",
        "  reward, terminated = env.step(action)\n",
        "  with output_grid.output_to(0, 0):\n",
        "    output_grid.clear_cell()\n",
        "    env.render()\n",
        "  time.sleep(1)"
      ],
      "metadata": {
        "colab": {
          "base_uri": "https://localhost:8080/",
          "height": 307
        },
        "id": "8lP3PKyLx_Hq",
        "outputId": "b3393ed8-64fb-4ef3-8ee1-1844fb14857c"
      },
      "execution_count": 137,
      "outputs": [
        {
          "output_type": "display_data",
          "data": {
            "text/plain": [
              "<IPython.core.display.HTML object>"
            ],
            "text/html": [
              "<style>\n",
              "       table#id108, #id108 > tbody > tr > th, #id108 > tbody > tr > td {\n",
              "         border: 1px solid lightgray;\n",
              "         border-collapse:collapse;\n",
              "         \n",
              "        }</style>"
            ]
          },
          "metadata": {}
        },
        {
          "output_type": "display_data",
          "data": {
            "text/plain": [
              "<IPython.core.display.HTML object>"
            ],
            "text/html": [
              "<table id=id108><tr><td id=id108-0-0></td></tr></table>"
            ]
          },
          "metadata": {}
        },
        {
          "output_type": "display_data",
          "data": {
            "text/plain": [
              "<IPython.core.display.Javascript object>"
            ],
            "application/javascript": [
              "window[\"4130d572-ae76-11ed-b21c-0242ac1c000c\"] = google.colab.output.getActiveOutputArea();\n",
              "//# sourceURL=js_339b5b12ba"
            ]
          },
          "metadata": {}
        },
        {
          "output_type": "display_data",
          "data": {
            "text/plain": [
              "<IPython.core.display.Javascript object>"
            ],
            "application/javascript": [
              "window[\"41311910-ae76-11ed-b21c-0242ac1c000c\"] = document.querySelector(\"#id108-0-0\");\n",
              "//# sourceURL=js_1de4874a37"
            ]
          },
          "metadata": {}
        },
        {
          "output_type": "display_data",
          "data": {
            "text/plain": [
              "<IPython.core.display.Javascript object>"
            ],
            "application/javascript": [
              "window[\"4131fcf4-ae76-11ed-b21c-0242ac1c000c\"] = google.colab.output.setActiveOutputArea(window[\"41311910-ae76-11ed-b21c-0242ac1c000c\"]);\n",
              "//# sourceURL=js_03438d9f32"
            ]
          },
          "metadata": {}
        },
        {
          "output_type": "display_data",
          "data": {
            "text/plain": [
              "<IPython.core.display.Javascript object>"
            ],
            "application/javascript": [
              "window[\"41523ba4-ae76-11ed-b21c-0242ac1c000c\"] = google.colab.output.setActiveOutputArea(window[\"4130d572-ae76-11ed-b21c-0242ac1c000c\"]);\n",
              "//# sourceURL=js_ba0883ee80"
            ]
          },
          "metadata": {}
        },
        {
          "output_type": "display_data",
          "data": {
            "text/plain": [
              "<IPython.core.display.Javascript object>"
            ],
            "application/javascript": [
              "window[\"41553b4c-ae76-11ed-b21c-0242ac1c000c\"] = google.colab.output.getActiveOutputArea();\n",
              "//# sourceURL=js_b7d03972cc"
            ]
          },
          "metadata": {}
        },
        {
          "output_type": "display_data",
          "data": {
            "text/plain": [
              "<IPython.core.display.Javascript object>"
            ],
            "application/javascript": [
              "window[\"4155c634-ae76-11ed-b21c-0242ac1c000c\"] = document.querySelector(\"#id108-0-0\");\n",
              "//# sourceURL=js_fd65c85315"
            ]
          },
          "metadata": {}
        },
        {
          "output_type": "display_data",
          "data": {
            "text/plain": [
              "<IPython.core.display.Javascript object>"
            ],
            "application/javascript": [
              "window[\"41560de2-ae76-11ed-b21c-0242ac1c000c\"] = google.colab.output.setActiveOutputArea(window[\"4155c634-ae76-11ed-b21c-0242ac1c000c\"]);\n",
              "//# sourceURL=js_78a7dd4a9c"
            ]
          },
          "metadata": {}
        },
        {
          "output_type": "display_data",
          "data": {
            "text/plain": [
              "<IPython.core.display.Javascript object>"
            ],
            "application/javascript": [
              "window[\"41763ae0-ae76-11ed-b21c-0242ac1c000c\"] = google.colab.output.setActiveOutputArea(window[\"41553b4c-ae76-11ed-b21c-0242ac1c000c\"]);\n",
              "//# sourceURL=js_a9c08f062c"
            ]
          },
          "metadata": {}
        },
        {
          "output_type": "display_data",
          "data": {
            "text/plain": [
              "<IPython.core.display.Javascript object>"
            ],
            "application/javascript": [
              "window[\"42114a30-ae76-11ed-b21c-0242ac1c000c\"] = google.colab.output.getActiveOutputArea();\n",
              "//# sourceURL=js_0608617d50"
            ]
          },
          "metadata": {}
        },
        {
          "output_type": "display_data",
          "data": {
            "text/plain": [
              "<IPython.core.display.Javascript object>"
            ],
            "application/javascript": [
              "window[\"421194f4-ae76-11ed-b21c-0242ac1c000c\"] = document.querySelector(\"#id108-0-0\");\n",
              "//# sourceURL=js_a6be096e27"
            ]
          },
          "metadata": {}
        },
        {
          "output_type": "display_data",
          "data": {
            "text/plain": [
              "<IPython.core.display.Javascript object>"
            ],
            "application/javascript": [
              "window[\"4211ecce-ae76-11ed-b21c-0242ac1c000c\"] = google.colab.output.setActiveOutputArea(window[\"421194f4-ae76-11ed-b21c-0242ac1c000c\"]);\n",
              "//# sourceURL=js_59d6cc5063"
            ]
          },
          "metadata": {}
        },
        {
          "output_type": "display_data",
          "data": {
            "text/plain": [
              "<IPython.core.display.Javascript object>"
            ],
            "application/javascript": [
              "window[\"42272972-ae76-11ed-b21c-0242ac1c000c\"] = google.colab.output.setActiveOutputArea(window[\"42114a30-ae76-11ed-b21c-0242ac1c000c\"]);\n",
              "//# sourceURL=js_61f6d0bd90"
            ]
          },
          "metadata": {}
        },
        {
          "output_type": "display_data",
          "data": {
            "text/plain": [
              "<IPython.core.display.Javascript object>"
            ],
            "application/javascript": [
              "window[\"42c22648-ae76-11ed-b21c-0242ac1c000c\"] = google.colab.output.getActiveOutputArea();\n",
              "//# sourceURL=js_454e353d54"
            ]
          },
          "metadata": {}
        },
        {
          "output_type": "display_data",
          "data": {
            "text/plain": [
              "<IPython.core.display.Javascript object>"
            ],
            "application/javascript": [
              "window[\"42c27148-ae76-11ed-b21c-0242ac1c000c\"] = document.querySelector(\"#id108-0-0\");\n",
              "//# sourceURL=js_b02c7209f0"
            ]
          },
          "metadata": {}
        },
        {
          "output_type": "display_data",
          "data": {
            "text/plain": [
              "<IPython.core.display.Javascript object>"
            ],
            "application/javascript": [
              "window[\"42c2ba36-ae76-11ed-b21c-0242ac1c000c\"] = google.colab.output.setActiveOutputArea(window[\"42c27148-ae76-11ed-b21c-0242ac1c000c\"]);\n",
              "//# sourceURL=js_d78fb75efe"
            ]
          },
          "metadata": {}
        },
        {
          "output_type": "display_data",
          "data": {
            "text/plain": [
              "<IPython.core.display.Javascript object>"
            ],
            "application/javascript": [
              "window[\"42d96ae2-ae76-11ed-b21c-0242ac1c000c\"] = google.colab.output.setActiveOutputArea(window[\"42c22648-ae76-11ed-b21c-0242ac1c000c\"]);\n",
              "//# sourceURL=js_9c47188fd5"
            ]
          },
          "metadata": {}
        },
        {
          "output_type": "display_data",
          "data": {
            "text/plain": [
              "<IPython.core.display.Javascript object>"
            ],
            "application/javascript": [
              "window[\"4374887e-ae76-11ed-b21c-0242ac1c000c\"] = google.colab.output.getActiveOutputArea();\n",
              "//# sourceURL=js_5437b18118"
            ]
          },
          "metadata": {}
        },
        {
          "output_type": "display_data",
          "data": {
            "text/plain": [
              "<IPython.core.display.Javascript object>"
            ],
            "application/javascript": [
              "window[\"437502b8-ae76-11ed-b21c-0242ac1c000c\"] = document.querySelector(\"#id108-0-0\");\n",
              "//# sourceURL=js_736a427ad9"
            ]
          },
          "metadata": {}
        },
        {
          "output_type": "display_data",
          "data": {
            "text/plain": [
              "<IPython.core.display.Javascript object>"
            ],
            "application/javascript": [
              "window[\"43755b50-ae76-11ed-b21c-0242ac1c000c\"] = google.colab.output.setActiveOutputArea(window[\"437502b8-ae76-11ed-b21c-0242ac1c000c\"]);\n",
              "//# sourceURL=js_4eb5811554"
            ]
          },
          "metadata": {}
        },
        {
          "output_type": "display_data",
          "data": {
            "text/plain": [
              "<IPython.core.display.Javascript object>"
            ],
            "application/javascript": [
              "window[\"438b755c-ae76-11ed-b21c-0242ac1c000c\"] = google.colab.output.setActiveOutputArea(window[\"4374887e-ae76-11ed-b21c-0242ac1c000c\"]);\n",
              "//# sourceURL=js_0271b0ca4c"
            ]
          },
          "metadata": {}
        },
        {
          "output_type": "display_data",
          "data": {
            "text/plain": [
              "<IPython.core.display.Javascript object>"
            ],
            "application/javascript": [
              "window[\"4425f258-ae76-11ed-b21c-0242ac1c000c\"] = google.colab.output.getActiveOutputArea();\n",
              "//# sourceURL=js_d73ca39ef9"
            ]
          },
          "metadata": {}
        },
        {
          "output_type": "display_data",
          "data": {
            "text/plain": [
              "<IPython.core.display.Javascript object>"
            ],
            "application/javascript": [
              "window[\"44263d08-ae76-11ed-b21c-0242ac1c000c\"] = document.querySelector(\"#id108-0-0\");\n",
              "//# sourceURL=js_296f34aa6c"
            ]
          },
          "metadata": {}
        },
        {
          "output_type": "display_data",
          "data": {
            "text/plain": [
              "<IPython.core.display.Javascript object>"
            ],
            "application/javascript": [
              "window[\"44269e38-ae76-11ed-b21c-0242ac1c000c\"] = google.colab.output.setActiveOutputArea(window[\"44263d08-ae76-11ed-b21c-0242ac1c000c\"]);\n",
              "//# sourceURL=js_93a63c9ed0"
            ]
          },
          "metadata": {}
        },
        {
          "output_type": "display_data",
          "data": {
            "text/plain": [
              "<IPython.core.display.Javascript object>"
            ],
            "application/javascript": [
              "window[\"443d56e6-ae76-11ed-b21c-0242ac1c000c\"] = google.colab.output.setActiveOutputArea(window[\"4425f258-ae76-11ed-b21c-0242ac1c000c\"]);\n",
              "//# sourceURL=js_0b347b60b6"
            ]
          },
          "metadata": {}
        },
        {
          "output_type": "stream",
          "name": "stdout",
          "text": [
            "diamond collected\n"
          ]
        },
        {
          "output_type": "display_data",
          "data": {
            "text/plain": [
              "<IPython.core.display.Javascript object>"
            ],
            "application/javascript": [
              "window[\"44d9565e-ae76-11ed-b21c-0242ac1c000c\"] = google.colab.output.getActiveOutputArea();\n",
              "//# sourceURL=js_790558746a"
            ]
          },
          "metadata": {}
        },
        {
          "output_type": "display_data",
          "data": {
            "text/plain": [
              "<IPython.core.display.Javascript object>"
            ],
            "application/javascript": [
              "window[\"44d9bf54-ae76-11ed-b21c-0242ac1c000c\"] = document.querySelector(\"#id108-0-0\");\n",
              "//# sourceURL=js_4a36c6af89"
            ]
          },
          "metadata": {}
        },
        {
          "output_type": "display_data",
          "data": {
            "text/plain": [
              "<IPython.core.display.Javascript object>"
            ],
            "application/javascript": [
              "window[\"44da2836-ae76-11ed-b21c-0242ac1c000c\"] = google.colab.output.setActiveOutputArea(window[\"44d9bf54-ae76-11ed-b21c-0242ac1c000c\"]);\n",
              "//# sourceURL=js_328db19134"
            ]
          },
          "metadata": {}
        },
        {
          "output_type": "display_data",
          "data": {
            "text/plain": [
              "<IPython.core.display.Javascript object>"
            ],
            "application/javascript": [
              "window[\"44ef5dfa-ae76-11ed-b21c-0242ac1c000c\"] = google.colab.output.setActiveOutputArea(window[\"44d9565e-ae76-11ed-b21c-0242ac1c000c\"]);\n",
              "//# sourceURL=js_84be597a5c"
            ]
          },
          "metadata": {}
        },
        {
          "output_type": "stream",
          "name": "stdout",
          "text": [
            "diamond collected\n"
          ]
        },
        {
          "output_type": "display_data",
          "data": {
            "text/plain": [
              "<IPython.core.display.Javascript object>"
            ],
            "application/javascript": [
              "window[\"458b4558-ae76-11ed-b21c-0242ac1c000c\"] = google.colab.output.getActiveOutputArea();\n",
              "//# sourceURL=js_30fb303d3f"
            ]
          },
          "metadata": {}
        },
        {
          "output_type": "display_data",
          "data": {
            "text/plain": [
              "<IPython.core.display.Javascript object>"
            ],
            "application/javascript": [
              "window[\"458bb31c-ae76-11ed-b21c-0242ac1c000c\"] = document.querySelector(\"#id108-0-0\");\n",
              "//# sourceURL=js_474494b97f"
            ]
          },
          "metadata": {}
        },
        {
          "output_type": "display_data",
          "data": {
            "text/plain": [
              "<IPython.core.display.Javascript object>"
            ],
            "application/javascript": [
              "window[\"458c14f6-ae76-11ed-b21c-0242ac1c000c\"] = google.colab.output.setActiveOutputArea(window[\"458bb31c-ae76-11ed-b21c-0242ac1c000c\"]);\n",
              "//# sourceURL=js_5c1c131d81"
            ]
          },
          "metadata": {}
        },
        {
          "output_type": "display_data",
          "data": {
            "text/plain": [
              "<IPython.core.display.Javascript object>"
            ],
            "application/javascript": [
              "window[\"45a4096c-ae76-11ed-b21c-0242ac1c000c\"] = google.colab.output.setActiveOutputArea(window[\"458b4558-ae76-11ed-b21c-0242ac1c000c\"]);\n",
              "//# sourceURL=js_65f0258040"
            ]
          },
          "metadata": {}
        },
        {
          "output_type": "display_data",
          "data": {
            "text/plain": [
              "<IPython.core.display.Javascript object>"
            ],
            "application/javascript": [
              "window[\"463f2906-ae76-11ed-b21c-0242ac1c000c\"] = google.colab.output.getActiveOutputArea();\n",
              "//# sourceURL=js_05e6518abd"
            ]
          },
          "metadata": {}
        },
        {
          "output_type": "display_data",
          "data": {
            "text/plain": [
              "<IPython.core.display.Javascript object>"
            ],
            "application/javascript": [
              "window[\"463f73ca-ae76-11ed-b21c-0242ac1c000c\"] = document.querySelector(\"#id108-0-0\");\n",
              "//# sourceURL=js_d8ed87cb4a"
            ]
          },
          "metadata": {}
        },
        {
          "output_type": "display_data",
          "data": {
            "text/plain": [
              "<IPython.core.display.Javascript object>"
            ],
            "application/javascript": [
              "window[\"463fb9f2-ae76-11ed-b21c-0242ac1c000c\"] = google.colab.output.setActiveOutputArea(window[\"463f73ca-ae76-11ed-b21c-0242ac1c000c\"]);\n",
              "//# sourceURL=js_7b97399fb5"
            ]
          },
          "metadata": {}
        },
        {
          "output_type": "display_data",
          "data": {
            "text/plain": [
              "<IPython.core.display.Javascript object>"
            ],
            "application/javascript": [
              "window[\"465e05c4-ae76-11ed-b21c-0242ac1c000c\"] = google.colab.output.setActiveOutputArea(window[\"463f2906-ae76-11ed-b21c-0242ac1c000c\"]);\n",
              "//# sourceURL=js_68c595bf32"
            ]
          },
          "metadata": {}
        },
        {
          "output_type": "display_data",
          "data": {
            "text/plain": [
              "<IPython.core.display.Javascript object>"
            ],
            "application/javascript": [
              "window[\"46f98ff8-ae76-11ed-b21c-0242ac1c000c\"] = google.colab.output.getActiveOutputArea();\n",
              "//# sourceURL=js_be04890fff"
            ]
          },
          "metadata": {}
        },
        {
          "output_type": "display_data",
          "data": {
            "text/plain": [
              "<IPython.core.display.Javascript object>"
            ],
            "application/javascript": [
              "window[\"46f9db70-ae76-11ed-b21c-0242ac1c000c\"] = document.querySelector(\"#id108-0-0\");\n",
              "//# sourceURL=js_6b7ce3708b"
            ]
          },
          "metadata": {}
        },
        {
          "output_type": "display_data",
          "data": {
            "text/plain": [
              "<IPython.core.display.Javascript object>"
            ],
            "application/javascript": [
              "window[\"46fa240e-ae76-11ed-b21c-0242ac1c000c\"] = google.colab.output.setActiveOutputArea(window[\"46f9db70-ae76-11ed-b21c-0242ac1c000c\"]);\n",
              "//# sourceURL=js_32e0caffd5"
            ]
          },
          "metadata": {}
        },
        {
          "output_type": "display_data",
          "data": {
            "text/plain": [
              "<IPython.core.display.Javascript object>"
            ],
            "application/javascript": [
              "window[\"471cfb3c-ae76-11ed-b21c-0242ac1c000c\"] = google.colab.output.setActiveOutputArea(window[\"46f98ff8-ae76-11ed-b21c-0242ac1c000c\"]);\n",
              "//# sourceURL=js_522dc339f1"
            ]
          },
          "metadata": {}
        },
        {
          "output_type": "display_data",
          "data": {
            "text/plain": [
              "<IPython.core.display.Javascript object>"
            ],
            "application/javascript": [
              "window[\"47b8f37a-ae76-11ed-b21c-0242ac1c000c\"] = google.colab.output.getActiveOutputArea();\n",
              "//# sourceURL=js_670f2cb01b"
            ]
          },
          "metadata": {}
        },
        {
          "output_type": "display_data",
          "data": {
            "text/plain": [
              "<IPython.core.display.Javascript object>"
            ],
            "application/javascript": [
              "window[\"47b94140-ae76-11ed-b21c-0242ac1c000c\"] = document.querySelector(\"#id108-0-0\");\n",
              "//# sourceURL=js_28ab41fd81"
            ]
          },
          "metadata": {}
        },
        {
          "output_type": "display_data",
          "data": {
            "text/plain": [
              "<IPython.core.display.Javascript object>"
            ],
            "application/javascript": [
              "window[\"47b9d75e-ae76-11ed-b21c-0242ac1c000c\"] = google.colab.output.setActiveOutputArea(window[\"47b94140-ae76-11ed-b21c-0242ac1c000c\"]);\n",
              "//# sourceURL=js_8cda2fd90b"
            ]
          },
          "metadata": {}
        },
        {
          "output_type": "display_data",
          "data": {
            "text/plain": [
              "<Figure size 432x288 with 1 Axes>"
            ],
            "image/png": "[encoded data removed]"
          },
          "metadata": {
            "needs_background": "light"
          }
        },
        {
          "output_type": "display_data",
          "data": {
            "text/plain": [
              "<IPython.core.display.Javascript object>"
            ],
            "application/javascript": [
              "window[\"47d9fcdc-ae76-11ed-b21c-0242ac1c000c\"] = google.colab.output.setActiveOutputArea(window[\"47b8f37a-ae76-11ed-b21c-0242ac1c000c\"]);\n",
              "//# sourceURL=js_7dabc1c92f"
            ]
          },
          "metadata": {}
        }
      ]
    },
    {
      "cell_type": "code",
      "source": [
        "env_type = \"deterministic\"\n",
        "env = Environment(env_type)\n",
        "agent = RandomAgent(env)\n",
        "\n",
        "obs, info = env.reset()\n",
        "terminated= False\n",
        "\n",
        "output_grid = widgets.Grid(1, 1)\n",
        "with output_grid.output_to(0, 0):\n",
        "  env.render()\n",
        "\n",
        "while not terminated:\n",
        "  action = agent.step(obs)\n",
        "  reward, terminated = env.step(action)\n",
        "  with output_grid.output_to(0, 0):\n",
        "    output_grid.clear_cell()\n",
        "    env.render()\n",
        "  time.sleep(1)"
      ],
      "metadata": {
        "colab": {
          "base_uri": "https://localhost:8080/",
          "height": 272
        },
        "id": "fYmKCVxGEjUR",
        "outputId": "ca99b60f-0d0d-479a-9cea-042842abd12e"
      },
      "execution_count": 138,
      "outputs": [
        {
          "output_type": "display_data",
          "data": {
            "text/plain": [
              "<IPython.core.display.HTML object>"
            ],
            "text/html": [
              "<style>\n",
              "       table#id110, #id110 > tbody > tr > th, #id110 > tbody > tr > td {\n",
              "         border: 1px solid lightgray;\n",
              "         border-collapse:collapse;\n",
              "         \n",
              "        }</style>"
            ]
          },
          "metadata": {}
        },
        {
          "output_type": "display_data",
          "data": {
            "text/plain": [
              "<IPython.core.display.HTML object>"
            ],
            "text/html": [
              "<table id=id110><tr><td id=id110-0-0></td></tr></table>"
            ]
          },
          "metadata": {}
        },
        {
          "output_type": "display_data",
          "data": {
            "text/plain": [
              "<IPython.core.display.Javascript object>"
            ],
            "application/javascript": [
              "window[\"4a76e6da-ae76-11ed-b21c-0242ac1c000c\"] = google.colab.output.getActiveOutputArea();\n",
              "//# sourceURL=js_74a34be7eb"
            ]
          },
          "metadata": {}
        },
        {
          "output_type": "display_data",
          "data": {
            "text/plain": [
              "<IPython.core.display.Javascript object>"
            ],
            "application/javascript": [
              "window[\"4a780dee-ae76-11ed-b21c-0242ac1c000c\"] = document.querySelector(\"#id110-0-0\");\n",
              "//# sourceURL=js_04a2e34b3e"
            ]
          },
          "metadata": {}
        },
        {
          "output_type": "display_data",
          "data": {
            "text/plain": [
              "<IPython.core.display.Javascript object>"
            ],
            "application/javascript": [
              "window[\"4a785826-ae76-11ed-b21c-0242ac1c000c\"] = google.colab.output.setActiveOutputArea(window[\"4a780dee-ae76-11ed-b21c-0242ac1c000c\"]);\n",
              "//# sourceURL=js_79e382d96d"
            ]
          },
          "metadata": {}
        },
        {
          "output_type": "display_data",
          "data": {
            "text/plain": [
              "<IPython.core.display.Javascript object>"
            ],
            "application/javascript": [
              "window[\"4a8c8ba2-ae76-11ed-b21c-0242ac1c000c\"] = google.colab.output.setActiveOutputArea(window[\"4a76e6da-ae76-11ed-b21c-0242ac1c000c\"]);\n",
              "//# sourceURL=js_919ec0b75c"
            ]
          },
          "metadata": {}
        },
        {
          "output_type": "display_data",
          "data": {
            "text/plain": [
              "<IPython.core.display.Javascript object>"
            ],
            "application/javascript": [
              "window[\"4a903360-ae76-11ed-b21c-0242ac1c000c\"] = google.colab.output.getActiveOutputArea();\n",
              "//# sourceURL=js_756b55db67"
            ]
          },
          "metadata": {}
        },
        {
          "output_type": "display_data",
          "data": {
            "text/plain": [
              "<IPython.core.display.Javascript object>"
            ],
            "application/javascript": [
              "window[\"4a90c49c-ae76-11ed-b21c-0242ac1c000c\"] = document.querySelector(\"#id110-0-0\");\n",
              "//# sourceURL=js_21a903c8ea"
            ]
          },
          "metadata": {}
        },
        {
          "output_type": "display_data",
          "data": {
            "text/plain": [
              "<IPython.core.display.Javascript object>"
            ],
            "application/javascript": [
              "window[\"4a9159de-ae76-11ed-b21c-0242ac1c000c\"] = google.colab.output.setActiveOutputArea(window[\"4a90c49c-ae76-11ed-b21c-0242ac1c000c\"]);\n",
              "//# sourceURL=js_92703e53b5"
            ]
          },
          "metadata": {}
        },
        {
          "output_type": "display_data",
          "data": {
            "text/plain": [
              "<IPython.core.display.Javascript object>"
            ],
            "application/javascript": [
              "window[\"4aa90a98-ae76-11ed-b21c-0242ac1c000c\"] = google.colab.output.setActiveOutputArea(window[\"4a903360-ae76-11ed-b21c-0242ac1c000c\"]);\n",
              "//# sourceURL=js_8b6d454719"
            ]
          },
          "metadata": {}
        },
        {
          "output_type": "display_data",
          "data": {
            "text/plain": [
              "<IPython.core.display.Javascript object>"
            ],
            "application/javascript": [
              "window[\"4b44505c-ae76-11ed-b21c-0242ac1c000c\"] = google.colab.output.getActiveOutputArea();\n",
              "//# sourceURL=js_bd6cc5a7d5"
            ]
          },
          "metadata": {}
        },
        {
          "output_type": "display_data",
          "data": {
            "text/plain": [
              "<IPython.core.display.Javascript object>"
            ],
            "application/javascript": [
              "window[\"4b44b060-ae76-11ed-b21c-0242ac1c000c\"] = document.querySelector(\"#id110-0-0\");\n",
              "//# sourceURL=js_69625bf13c"
            ]
          },
          "metadata": {}
        },
        {
          "output_type": "display_data",
          "data": {
            "text/plain": [
              "<IPython.core.display.Javascript object>"
            ],
            "application/javascript": [
              "window[\"4b451244-ae76-11ed-b21c-0242ac1c000c\"] = google.colab.output.setActiveOutputArea(window[\"4b44b060-ae76-11ed-b21c-0242ac1c000c\"]);\n",
              "//# sourceURL=js_9248864abb"
            ]
          },
          "metadata": {}
        },
        {
          "output_type": "display_data",
          "data": {
            "text/plain": [
              "<IPython.core.display.Javascript object>"
            ],
            "application/javascript": [
              "window[\"4b5a537a-ae76-11ed-b21c-0242ac1c000c\"] = google.colab.output.setActiveOutputArea(window[\"4b44505c-ae76-11ed-b21c-0242ac1c000c\"]);\n",
              "//# sourceURL=js_f8d0192540"
            ]
          },
          "metadata": {}
        },
        {
          "output_type": "display_data",
          "data": {
            "text/plain": [
              "<IPython.core.display.Javascript object>"
            ],
            "application/javascript": [
              "window[\"4bf57b66-ae76-11ed-b21c-0242ac1c000c\"] = google.colab.output.getActiveOutputArea();\n",
              "//# sourceURL=js_735e71f251"
            ]
          },
          "metadata": {}
        },
        {
          "output_type": "display_data",
          "data": {
            "text/plain": [
              "<IPython.core.display.Javascript object>"
            ],
            "application/javascript": [
              "window[\"4bf5f302-ae76-11ed-b21c-0242ac1c000c\"] = document.querySelector(\"#id110-0-0\");\n",
              "//# sourceURL=js_6439721ce8"
            ]
          },
          "metadata": {}
        },
        {
          "output_type": "display_data",
          "data": {
            "text/plain": [
              "<IPython.core.display.Javascript object>"
            ],
            "application/javascript": [
              "window[\"4bf66a26-ae76-11ed-b21c-0242ac1c000c\"] = google.colab.output.setActiveOutputArea(window[\"4bf5f302-ae76-11ed-b21c-0242ac1c000c\"]);\n",
              "//# sourceURL=js_48cc63427c"
            ]
          },
          "metadata": {}
        },
        {
          "output_type": "display_data",
          "data": {
            "text/plain": [
              "<IPython.core.display.Javascript object>"
            ],
            "application/javascript": [
              "window[\"4c0b9a68-ae76-11ed-b21c-0242ac1c000c\"] = google.colab.output.setActiveOutputArea(window[\"4bf57b66-ae76-11ed-b21c-0242ac1c000c\"]);\n",
              "//# sourceURL=js_1de7143af2"
            ]
          },
          "metadata": {}
        },
        {
          "output_type": "display_data",
          "data": {
            "text/plain": [
              "<IPython.core.display.Javascript object>"
            ],
            "application/javascript": [
              "window[\"4ca6e0e0-ae76-11ed-b21c-0242ac1c000c\"] = google.colab.output.getActiveOutputArea();\n",
              "//# sourceURL=js_919c54c460"
            ]
          },
          "metadata": {}
        },
        {
          "output_type": "display_data",
          "data": {
            "text/plain": [
              "<IPython.core.display.Javascript object>"
            ],
            "application/javascript": [
              "window[\"4ca744a4-ae76-11ed-b21c-0242ac1c000c\"] = document.querySelector(\"#id110-0-0\");\n",
              "//# sourceURL=js_7c5487a565"
            ]
          },
          "metadata": {}
        },
        {
          "output_type": "display_data",
          "data": {
            "text/plain": [
              "<IPython.core.display.Javascript object>"
            ],
            "application/javascript": [
              "window[\"4ca7b59c-ae76-11ed-b21c-0242ac1c000c\"] = google.colab.output.setActiveOutputArea(window[\"4ca744a4-ae76-11ed-b21c-0242ac1c000c\"]);\n",
              "//# sourceURL=js_9ce1a140f6"
            ]
          },
          "metadata": {}
        },
        {
          "output_type": "display_data",
          "data": {
            "text/plain": [
              "<IPython.core.display.Javascript object>"
            ],
            "application/javascript": [
              "window[\"4cbd0348-ae76-11ed-b21c-0242ac1c000c\"] = google.colab.output.setActiveOutputArea(window[\"4ca6e0e0-ae76-11ed-b21c-0242ac1c000c\"]);\n",
              "//# sourceURL=js_b7fb386602"
            ]
          },
          "metadata": {}
        },
        {
          "output_type": "display_data",
          "data": {
            "text/plain": [
              "<IPython.core.display.Javascript object>"
            ],
            "application/javascript": [
              "window[\"4d586ec8-ae76-11ed-b21c-0242ac1c000c\"] = google.colab.output.getActiveOutputArea();\n",
              "//# sourceURL=js_8dee9fc1e4"
            ]
          },
          "metadata": {}
        },
        {
          "output_type": "display_data",
          "data": {
            "text/plain": [
              "<IPython.core.display.Javascript object>"
            ],
            "application/javascript": [
              "window[\"4d58d34a-ae76-11ed-b21c-0242ac1c000c\"] = document.querySelector(\"#id110-0-0\");\n",
              "//# sourceURL=js_0fd2aa5f09"
            ]
          },
          "metadata": {}
        },
        {
          "output_type": "display_data",
          "data": {
            "text/plain": [
              "<IPython.core.display.Javascript object>"
            ],
            "application/javascript": [
              "window[\"4d5942ee-ae76-11ed-b21c-0242ac1c000c\"] = google.colab.output.setActiveOutputArea(window[\"4d58d34a-ae76-11ed-b21c-0242ac1c000c\"]);\n",
              "//# sourceURL=js_443c58757a"
            ]
          },
          "metadata": {}
        },
        {
          "output_type": "display_data",
          "data": {
            "text/plain": [
              "<IPython.core.display.Javascript object>"
            ],
            "application/javascript": [
              "window[\"4d6f1eca-ae76-11ed-b21c-0242ac1c000c\"] = google.colab.output.setActiveOutputArea(window[\"4d586ec8-ae76-11ed-b21c-0242ac1c000c\"]);\n",
              "//# sourceURL=js_ab676682d5"
            ]
          },
          "metadata": {}
        },
        {
          "output_type": "display_data",
          "data": {
            "text/plain": [
              "<IPython.core.display.Javascript object>"
            ],
            "application/javascript": [
              "window[\"4e0b287e-ae76-11ed-b21c-0242ac1c000c\"] = google.colab.output.getActiveOutputArea();\n",
              "//# sourceURL=js_02fcc52702"
            ]
          },
          "metadata": {}
        },
        {
          "output_type": "display_data",
          "data": {
            "text/plain": [
              "<IPython.core.display.Javascript object>"
            ],
            "application/javascript": [
              "window[\"4e0b7ae0-ae76-11ed-b21c-0242ac1c000c\"] = document.querySelector(\"#id110-0-0\");\n",
              "//# sourceURL=js_e07abbe5ab"
            ]
          },
          "metadata": {}
        },
        {
          "output_type": "display_data",
          "data": {
            "text/plain": [
              "<IPython.core.display.Javascript object>"
            ],
            "application/javascript": [
              "window[\"4e0bcea0-ae76-11ed-b21c-0242ac1c000c\"] = google.colab.output.setActiveOutputArea(window[\"4e0b7ae0-ae76-11ed-b21c-0242ac1c000c\"]);\n",
              "//# sourceURL=js_24059851d1"
            ]
          },
          "metadata": {}
        },
        {
          "output_type": "display_data",
          "data": {
            "text/plain": [
              "<IPython.core.display.Javascript object>"
            ],
            "application/javascript": [
              "window[\"4e236db2-ae76-11ed-b21c-0242ac1c000c\"] = google.colab.output.setActiveOutputArea(window[\"4e0b287e-ae76-11ed-b21c-0242ac1c000c\"]);\n",
              "//# sourceURL=js_79d685710f"
            ]
          },
          "metadata": {}
        },
        {
          "output_type": "display_data",
          "data": {
            "text/plain": [
              "<IPython.core.display.Javascript object>"
            ],
            "application/javascript": [
              "window[\"4ebe4bf2-ae76-11ed-b21c-0242ac1c000c\"] = google.colab.output.getActiveOutputArea();\n",
              "//# sourceURL=js_f4b0c1afd2"
            ]
          },
          "metadata": {}
        },
        {
          "output_type": "display_data",
          "data": {
            "text/plain": [
              "<IPython.core.display.Javascript object>"
            ],
            "application/javascript": [
              "window[\"4ebe972e-ae76-11ed-b21c-0242ac1c000c\"] = document.querySelector(\"#id110-0-0\");\n",
              "//# sourceURL=js_10d09f26bd"
            ]
          },
          "metadata": {}
        },
        {
          "output_type": "display_data",
          "data": {
            "text/plain": [
              "<IPython.core.display.Javascript object>"
            ],
            "application/javascript": [
              "window[\"4ebf3030-ae76-11ed-b21c-0242ac1c000c\"] = google.colab.output.setActiveOutputArea(window[\"4ebe972e-ae76-11ed-b21c-0242ac1c000c\"]);\n",
              "//# sourceURL=js_a597baea4a"
            ]
          },
          "metadata": {}
        },
        {
          "output_type": "display_data",
          "data": {
            "text/plain": [
              "<IPython.core.display.Javascript object>"
            ],
            "application/javascript": [
              "window[\"4ee15e30-ae76-11ed-b21c-0242ac1c000c\"] = google.colab.output.setActiveOutputArea(window[\"4ebe4bf2-ae76-11ed-b21c-0242ac1c000c\"]);\n",
              "//# sourceURL=js_3003505db4"
            ]
          },
          "metadata": {}
        },
        {
          "output_type": "display_data",
          "data": {
            "text/plain": [
              "<IPython.core.display.Javascript object>"
            ],
            "application/javascript": [
              "window[\"4f7d1bf4-ae76-11ed-b21c-0242ac1c000c\"] = google.colab.output.getActiveOutputArea();\n",
              "//# sourceURL=js_6de027f60e"
            ]
          },
          "metadata": {}
        },
        {
          "output_type": "display_data",
          "data": {
            "text/plain": [
              "<IPython.core.display.Javascript object>"
            ],
            "application/javascript": [
              "window[\"4f7d57cc-ae76-11ed-b21c-0242ac1c000c\"] = document.querySelector(\"#id110-0-0\");\n",
              "//# sourceURL=js_049c87673f"
            ]
          },
          "metadata": {}
        },
        {
          "output_type": "display_data",
          "data": {
            "text/plain": [
              "<IPython.core.display.Javascript object>"
            ],
            "application/javascript": [
              "window[\"4f7d9be2-ae76-11ed-b21c-0242ac1c000c\"] = google.colab.output.setActiveOutputArea(window[\"4f7d57cc-ae76-11ed-b21c-0242ac1c000c\"]);\n",
              "//# sourceURL=js_aafb018fc9"
            ]
          },
          "metadata": {}
        },
        {
          "output_type": "display_data",
          "data": {
            "text/plain": [
              "<IPython.core.display.Javascript object>"
            ],
            "application/javascript": [
              "window[\"4f9b6348-ae76-11ed-b21c-0242ac1c000c\"] = google.colab.output.setActiveOutputArea(window[\"4f7d1bf4-ae76-11ed-b21c-0242ac1c000c\"]);\n",
              "//# sourceURL=js_0012ebe9c6"
            ]
          },
          "metadata": {}
        },
        {
          "output_type": "display_data",
          "data": {
            "text/plain": [
              "<IPython.core.display.Javascript object>"
            ],
            "application/javascript": [
              "window[\"5036858a-ae76-11ed-b21c-0242ac1c000c\"] = google.colab.output.getActiveOutputArea();\n",
              "//# sourceURL=js_fcbcd85b1a"
            ]
          },
          "metadata": {}
        },
        {
          "output_type": "display_data",
          "data": {
            "text/plain": [
              "<IPython.core.display.Javascript object>"
            ],
            "application/javascript": [
              "window[\"5036cd1a-ae76-11ed-b21c-0242ac1c000c\"] = document.querySelector(\"#id110-0-0\");\n",
              "//# sourceURL=js_ed0a4d369d"
            ]
          },
          "metadata": {}
        },
        {
          "output_type": "display_data",
          "data": {
            "text/plain": [
              "<IPython.core.display.Javascript object>"
            ],
            "application/javascript": [
              "window[\"50371b62-ae76-11ed-b21c-0242ac1c000c\"] = google.colab.output.setActiveOutputArea(window[\"5036cd1a-ae76-11ed-b21c-0242ac1c000c\"]);\n",
              "//# sourceURL=js_ffed141d77"
            ]
          },
          "metadata": {}
        },
        {
          "output_type": "display_data",
          "data": {
            "text/plain": [
              "<IPython.core.display.Javascript object>"
            ],
            "application/javascript": [
              "window[\"504c87a4-ae76-11ed-b21c-0242ac1c000c\"] = google.colab.output.setActiveOutputArea(window[\"5036858a-ae76-11ed-b21c-0242ac1c000c\"]);\n",
              "//# sourceURL=js_7e2da28b7e"
            ]
          },
          "metadata": {}
        },
        {
          "output_type": "display_data",
          "data": {
            "text/plain": [
              "<IPython.core.display.Javascript object>"
            ],
            "application/javascript": [
              "window[\"50e72c64-ae76-11ed-b21c-0242ac1c000c\"] = google.colab.output.getActiveOutputArea();\n",
              "//# sourceURL=js_5bf8f90ff8"
            ]
          },
          "metadata": {}
        },
        {
          "output_type": "display_data",
          "data": {
            "text/plain": [
              "<IPython.core.display.Javascript object>"
            ],
            "application/javascript": [
              "window[\"50e7fc2a-ae76-11ed-b21c-0242ac1c000c\"] = document.querySelector(\"#id110-0-0\");\n",
              "//# sourceURL=js_9338d1e7f5"
            ]
          },
          "metadata": {}
        },
        {
          "output_type": "display_data",
          "data": {
            "text/plain": [
              "<IPython.core.display.Javascript object>"
            ],
            "application/javascript": [
              "window[\"50e86084-ae76-11ed-b21c-0242ac1c000c\"] = google.colab.output.setActiveOutputArea(window[\"50e7fc2a-ae76-11ed-b21c-0242ac1c000c\"]);\n",
              "//# sourceURL=js_80c98eb34f"
            ]
          },
          "metadata": {}
        },
        {
          "output_type": "display_data",
          "data": {
            "text/plain": [
              "<Figure size 432x288 with 1 Axes>"
            ],
            "image/png": "[encoded data removed]"
          },
          "metadata": {
            "needs_background": "light"
          }
        },
        {
          "output_type": "display_data",
          "data": {
            "text/plain": [
              "<IPython.core.display.Javascript object>"
            ],
            "application/javascript": [
              "window[\"50fd771c-ae76-11ed-b21c-0242ac1c000c\"] = google.colab.output.setActiveOutputArea(window[\"50e72c64-ae76-11ed-b21c-0242ac1c000c\"]);\n",
              "//# sourceURL=js_d5f056de9f"
            ]
          },
          "metadata": {}
        }
      ]
    },
    {
      "cell_type": "markdown",
      "source": [
        "References:\n",
        "spring_23_rl_lec_3_random_agent.ipynb\n",
        "https://piazza.com/class/lddfg1k1kk01l6/post/68\n",
        "\n",
        "visualizing_rl_environments_and_representing_the_results.zip - given by the TA\n",
        "\n",
        "https://gymnasium.farama.org/ - to understand the environment\n",
        "\n",
        "Github link:\n",
        "https://github.com/aditya3477/rl-assignments/tree/main"
      ],
      "metadata": {
        "id": "LUOGEOYEtu9g"
      }
    }
  ]
}